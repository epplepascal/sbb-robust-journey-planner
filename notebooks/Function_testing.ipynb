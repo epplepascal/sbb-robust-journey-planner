{
 "cells": [
  {
   "cell_type": "code",
   "execution_count": 1,
   "id": "3aaebb78-f234-4865-bfb3-e73bc8ea0697",
   "metadata": {},
   "outputs": [],
   "source": [
    "import pandas as pd\n",
    "import matplotlib.pyplot as plt\n",
    "import gmaps\n",
    "from datetime import datetime\n",
    "import googlemaps\n",
    "import numpy as np\n",
    "import random\n",
    "import datetime\n",
    "from collections import namedtuple"
   ]
  },
  {
   "cell_type": "markdown",
   "id": "0765c27f-f3e3-4068-87ac-ac51925db1ff",
   "metadata": {},
   "source": [
    "## Evaluation of the Algorithm\n",
    "\n",
    "- reference: API GM\n",
    "- itinerarion: fermate e orario\n",
    "- confrontare i risultati sulla basi di criteri: tempo totale che ci mette la soluzione vs GM, numero di cambi, distanza fatta piedi, distanza percorso.\n",
    "- centinaio di itinerari\n",
    "- plots\n",
    "\n",
    "open the API of Google maps"
   ]
  },
  {
   "cell_type": "code",
   "execution_count": 2,
   "id": "cc2256b8-44c7-4474-a426-6a489cd5b187",
   "metadata": {},
   "outputs": [],
   "source": [
    "with open('APIkey.txt') as f:\n",
    "    api_key = f.readline()\n",
    "    f.close\n",
    "\n",
    "# Create an instance of the Google Maps client\n",
    "gmaps = googlemaps.Client(key=api_key)"
   ]
  },
  {
   "cell_type": "markdown",
   "id": "3f068c28-5e7c-4388-b16a-5c6251049593",
   "metadata": {},
   "source": [
    "Load the data we need.\n",
    "- longitude and latitude for Google Maps\n",
    "- stops ids for CSA\n",
    "- arrival time and departure time in seconds of the day for CSA\n",
    "- arrival time and departure time in datetime object for Google Maps."
   ]
  },
  {
   "cell_type": "code",
   "execution_count": 3,
   "id": "319ca34a-06f3-4d33-82d1-30ac8f34cf4f",
   "metadata": {},
   "outputs": [
    {
     "data": {
      "text/plain": [
       "(917, 6)"
      ]
     },
     "execution_count": 3,
     "metadata": {},
     "output_type": "execute_result"
    }
   ],
   "source": [
    "stops = pd.read_csv('stops_with_lonlat.csv')\n",
    "stops = stops[['stop_id1', 'stop_id2', 'latitude1', 'longitude1', 'latitude2', 'longitude2']]\n",
    "stops.shape"
   ]
  },
  {
   "cell_type": "code",
   "execution_count": 4,
   "id": "31813be6-d7e9-4a43-b0e0-85c0f40359f3",
   "metadata": {},
   "outputs": [],
   "source": [
    "stops_CSA = stops[['stop_id1', 'stop_id2']]\n",
    "stops_GM = stops[['latitude1', 'longitude1', 'latitude2', 'longitude2']]\n",
    "\n",
    "arr_time_CSA = random.sample(list(np.arange(21600,72000, dtype=float)), 900)\n",
    "\n",
    "# Convert departure times to datetime objects\n",
    "arr_time_GM = []\n",
    "for seconds in arr_time_CSA:\n",
    "    dt = datetime.datetime.utcfromtimestamp(seconds)\n",
    "    arr_time_GM.append(dt)"
   ]
  },
  {
   "cell_type": "markdown",
   "id": "bbd8d6ee-0714-4f45-9b13-2e564888fca4",
   "metadata": {
    "jp-MarkdownHeadingCollapsed": true,
    "tags": []
   },
   "source": [
    "## Function for comparing Google Maps and CSA\n"
   ]
  },
  {
   "cell_type": "markdown",
   "id": "612dd0c5-ba3b-4bd6-92ba-5914f790791b",
   "metadata": {
    "tags": []
   },
   "source": [
    "## Import the CSA algorithm"
   ]
  },
  {
   "cell_type": "code",
   "execution_count": 5,
   "id": "96162d51-e367-41e7-a05b-a0a01bfc4ec6",
   "metadata": {},
   "outputs": [],
   "source": [
    "from array import array\n",
    "\n",
    "def reset_timetable(timetable, original_length):\n",
    "    for id, conn in enumerate(timetable):\n",
    "        timetable[id] = conn._replace(active = 1)\n",
    "    return timetable[:original_length]\n",
    "### WORKING CSA\n",
    "def CSA(stations, timetable, departure_station, departure_time, arrival_station, arrival_time):\n",
    "    MAX_INT = 2**32 - 1\n",
    "\n",
    "    earliest = MAX_INT\n",
    "    \n",
    "    in_connection = {s: MAX_INT for s in stations}\n",
    "    earliest_arrival = {s: MAX_INT for s in stations}\n",
    "    \n",
    "    earliest_arrival[departure_station] = departure_time\n",
    "    \n",
    "    if transfer_dict.get(departure_station) is not None:\n",
    "        for reachable_station, transfer_time in transfer_dict[departure_station]:\n",
    "            arrival_time_reachable = departure_time + transfer_time\n",
    "            earliest_arrival[reachable_station] = arrival_time_reachable\n",
    "            walking_connection = Connection('W', departure_station, reachable_station, departure_time, arrival_time_reachable, 'W', 1)\n",
    "            timetable.append(walking_connection)\n",
    "            in_connection[reachable_station] = len(timetable) - 1 #get last index of timetable\n",
    "    \n",
    "    for i, c in enumerate(timetable):\n",
    "        \n",
    "        change = 0\n",
    "        \n",
    "        if c.active == 1:\n",
    "            \n",
    "            if (in_connection.get(c.dep_stop) is not None): #sanity\n",
    "                if (in_connection[c.dep_stop] != MAX_INT):\n",
    "                    #print(i, in_connection[c.dep_stop])\n",
    "                    if (timetable[in_connection[c.dep_stop]].trip_id != c.trip_id):\n",
    "                            change = 120 #transfer time penalty in seconds\n",
    "\n",
    "            if (c.dep_time_sec >= earliest_arrival[c.dep_stop] + change) & (c.arr_time_sec < earliest_arrival[c.arr_stop]):\n",
    "                \n",
    "                \n",
    "                earliest_arrival[c.arr_stop] = c.arr_time_sec\n",
    "                in_connection[c.arr_stop] = i\n",
    "\n",
    "                if c.arr_stop == arrival_station:\n",
    "                    earliest = min(earliest, c.arr_time_sec)\n",
    "\n",
    "                ## transfers\n",
    "                if transfer_dict.get(c.arr_stop) is not None: ### inconsistency between the tables\n",
    "                        for reachable_station, transfer_time in transfer_dict[c.arr_stop]:\n",
    "                            arrival_time_reachable = c.arr_time_sec + transfer_time\n",
    "                            if reachable_station in stations: ### inconsistency \n",
    "                                if (arrival_time_reachable < earliest_arrival[reachable_station]):\n",
    "                                    \n",
    "                                    earliest_arrival[reachable_station] = arrival_time_reachable\n",
    "                                    # Append the 'walking' as a new connection to the timetable\n",
    "                                    walking_connection = Connection('W', c.arr_stop, reachable_station, c.arr_time_sec, arrival_time_reachable, 'W', 1)\n",
    "                                    #print(walking_connection)\n",
    "                                    timetable.append(walking_connection)\n",
    "                                    in_connection[reachable_station] = len(timetable) - 1 #get last index of timetable\n",
    "\n",
    "                                    if reachable_station == arrival_station:\n",
    "                                        earliest = min(earliest, arrival_time_reachable)\n",
    "\n",
    "            elif c.arr_time_sec > earliest:\n",
    "                break\n",
    "\n",
    "    route = []\n",
    "    # We have to rebuild the route from the arrival station\n",
    "    last_connection_index = in_connection[arrival_station]\n",
    "\n",
    "    while last_connection_index != MAX_INT:\n",
    "        connection = timetable[last_connection_index]\n",
    "        route.append(connection)\n",
    "        last_connection_index = in_connection[connection.dep_stop]\n",
    "    \n",
    "    route=list(reversed(route))\n",
    "    \n",
    "    return route"
   ]
  },
  {
   "cell_type": "markdown",
   "id": "38db1027-f52b-4096-8273-2de8c55c5330",
   "metadata": {
    "tags": []
   },
   "source": [
    "## Retrieve the data in order to be able to run CSA\n",
    "\n",
    "Stop transfers."
   ]
  },
  {
   "cell_type": "code",
   "execution_count": 6,
   "id": "76080273-b23f-4d7d-bf1a-aa318b95a9d5",
   "metadata": {},
   "outputs": [],
   "source": [
    "transfer_times = pd.read_csv('df_with_transfer_time.csv')\n",
    "transfer_times['stop_id1'] = transfer_times['stop_id1'].astype('string')\n",
    "transfer_times['stop_id2'] = transfer_times['stop_id2'].astype('string')\n",
    "\n",
    "transfer_dict = {}\n",
    "for _, row in transfer_times.iterrows():\n",
    "    if row.stop_id1 not in transfer_dict:\n",
    "        transfer_dict[row.stop_id1] = [(row.stop_id2, row.walking_time)]\n",
    "    elif (row.stop_id2, row.walking_time) not in transfer_dict[row.stop_id1]:\n",
    "        transfer_dict[row.stop_id1].append((row.stop_id2, row.walking_time))"
   ]
  },
  {
   "cell_type": "markdown",
   "id": "8392060b-6a29-4633-b016-2609724daea7",
   "metadata": {},
   "source": [
    "Timetable data:"
   ]
  },
  {
   "cell_type": "code",
   "execution_count": 7,
   "id": "e05c6fc0-88cd-4abe-ab80-1cbcfd41b766",
   "metadata": {},
   "outputs": [],
   "source": [
    "timetable = pd.read_pickle('timetable_zh_latest.pkl')\n",
    "timetable.columns = ['stop_id', 'trip_id', 'stop_name', 'dep_stop', 'arr_stop',\n",
    "       'dep_time', 'arr_time', 'route_desc', 'monday',\n",
    "       'tuesday', 'wednesday', 'thursday', 'friday', 'saturday', 'sunday']\n",
    "timetable[\"active\"] = 1\n",
    "\n",
    "def get_sec(time_str):\n",
    "    h, m, s = time_str.split(':')\n",
    "    return int(h) * 3600 + int(m) * 60 + int(s)\n",
    "\n",
    "timetable['dep_time_sec'] = timetable['dep_time'].apply(get_sec)\n",
    "timetable['arr_time_sec'] = timetable['arr_time'].apply(get_sec)\n",
    "timetable.drop('dep_time', axis=1, inplace=True)\n",
    "timetable.drop('arr_time', axis=1, inplace=True)\n",
    "\n",
    "columns_to_compare = ['dep_stop', 'arr_stop', 'monday', 'tuesday', 'wednesday','thursday', 'friday', 'saturday', 'sunday', 'dep_time_sec','arr_time_sec']\n",
    "duplicates = timetable.duplicated(subset=columns_to_compare, keep=False) \n",
    "timetable = timetable[~duplicates]\n",
    "wrong_entries = timetable['arr_time_sec'] <= timetable['dep_time_sec'] ## added\n",
    "timetable = timetable[~wrong_entries]\n",
    "timetable['trip_id'] = timetable['trip_id'].astype('string')\n",
    "timetable['dep_stop'] = timetable['dep_stop'].astype('string')\n",
    "timetable['arr_stop'] = timetable['arr_stop'].astype('string')\n",
    "\n",
    "Connection = namedtuple('connection', ['trip_id', 'dep_stop', 'arr_stop', 'dep_time_sec', 'arr_time_sec', 'route_desc', 'active'])\n",
    "cols = ['trip_id', 'dep_stop', 'arr_stop', 'dep_time_sec', 'arr_time_sec', 'route_desc']\n",
    "timetable_monday = timetable[timetable['monday'] == 1][cols].sort_values(by = 'dep_time_sec').reset_index(drop = True)\n",
    "\n",
    "ls_timetable = []\n",
    "for _, connection in timetable_monday.iterrows():\n",
    "    ls_timetable.append(Connection(connection.trip_id, connection.dep_stop, connection.arr_stop, connection.dep_time_sec, connection.arr_time_sec, connection.route_desc, 1))\n",
    "original_length = len(ls_timetable)"
   ]
  },
  {
   "cell_type": "markdown",
   "id": "5a159cab-d1a9-4769-ac34-2b6b6e3af45d",
   "metadata": {},
   "source": [
    "Stations."
   ]
  },
  {
   "cell_type": "code",
   "execution_count": 8,
   "id": "8a26668d-2e39-4cf4-ab73-86aae375eafe",
   "metadata": {},
   "outputs": [],
   "source": [
    "df_zurich = pd.read_csv('df_zurich.csv')\n",
    "stations = set(df_zurich['stop_id'].to_list() + timetable['dep_stop'].to_list() + timetable['arr_stop'].to_list())"
   ]
  },
  {
   "cell_type": "markdown",
   "id": "766f86bd-9e54-4aec-a084-a5d3971d22d6",
   "metadata": {},
   "source": [
    "## Run the evaluation function."
   ]
  },
  {
   "cell_type": "code",
   "execution_count": 9,
   "id": "80875b63-7202-4f44-b54d-d216c8073f84",
   "metadata": {},
   "outputs": [],
   "source": [
    "def performance_csa_compared_googlemaps(stations, testing_df, arr_time_CSA, arr_time_GM, ls_timetable, print_ = False):\n",
    "    diff_duration_list = []\n",
    "    diff_walking_list = []\n",
    "    diff_nchanges_list = []\n",
    "    \n",
    "    needs_more_time = 0\n",
    "    won = 0\n",
    "\n",
    "    for i in range(0,900):        \n",
    "        # get the longitude and latitude of the stops\n",
    "        stop1, lon1, lat1 = row = testing_df.loc[i, ['stop_id1', 'latitude1', 'longitude1']]\n",
    "        stop2, lon2, lat2 = row = testing_df.loc[i, ['stop_id2', 'latitude2', 'longitude2']]  \n",
    "        departure_time = int(arr_time_CSA[i] - 10800)\n",
    "        arrival_time = int(arr_time_CSA[i])\n",
    "        \n",
    "        # Google Maps directions\n",
    "        directions_result = gmaps.directions(f\"{lon1}, {lat1}\", f\"{lon2}, {lat2}\",\n",
    "                                            mode=\"driving\",\n",
    "                                            arrival_time = arr_time_GM[i])\n",
    "        \n",
    "        # CSA directions\n",
    "        directions_result_csa = CSA(stations, ls_timetable, stop1, departure_time, stop2, arrival_time)\n",
    "        \n",
    "        if len(directions_result_csa) == 0:\n",
    "            if print_ == True:\n",
    "                print(f'The connection {i} from stop {stop1} to {stop2} at time {departure_time} to {arrival_time} does not exist, sorry!')\n",
    "            needs_more_time += 1\n",
    "            continue\n",
    "\n",
    "        ##### TIME OF THE TRIP #####\n",
    "        duration_gm = directions_result[0]['legs'][0]['duration']['text'].split(' ')\n",
    "        total_duration_gm = float(duration_gm[0]) * 60     #Google Maps\n",
    "        if len(duration_gm) > 2:\n",
    "             total_duration_gm += int(duration_gm[2])\n",
    "        total_duration_csa = - directions_result_csa[0].dep_time_sec + directions_result_csa[-1].arr_time_sec   # CSA\n",
    "        \n",
    "        if total_duration_csa > 10800:\n",
    "            if print_ == True:\n",
    "                print(f'The connection {i} from stop {stop1} to {stop2} at time {departure_time} to {arrival_time} needs a greater time frame.')\n",
    "            needs_more_time += 1\n",
    "            continue\n",
    "            \n",
    "        # FUNCTION FOR Google Maps\n",
    "        walking_distance_gm, n_changes_gm = 0, 0\n",
    "        for step in directions_result[0]['legs'][0]['steps']:\n",
    "            if 'transit_details' in step:\n",
    "                n_changes_gm += 1\n",
    "            else:\n",
    "                walking_distance_gm += step['distance']['value']\n",
    "                \n",
    "        # FUNCTION FOR CSA\n",
    "        walking_distance_csa, n_changes_csa = 0.0, 0\n",
    "        for j in range(len(directions_result_csa)):\n",
    "            if directions_result_csa[j].trip_id == 'W':\n",
    "                walking_distance_csa += (directions_result_csa[j].arr_time_sec - directions_result_csa[j].dep_time_sec) / 60 * 50\n",
    "            n_changes_csa += 1\n",
    "\n",
    "        # compute the differences and append them to the list\n",
    "        diff_duration = total_duration_gm - total_duration_csa\n",
    "        diff_walking = walking_distance_gm - walking_distance_csa\n",
    "        diff_nchanges = n_changes_gm - 1 - n_changes_csa\n",
    "        \n",
    "        diff_duration_list.append(diff_duration)\n",
    "        diff_walking_list.append(diff_walking)\n",
    "        diff_nchanges_list.append(diff_nchanges)\n",
    "    \n",
    "    print(f'On average we found {100 - (needs_more_time / 900 * 100)} % connections in the time frame of 3h.')\n",
    "    \n",
    "    return diff_duration_list, diff_walking_list, diff_nchanges_list"
   ]
  },
  {
   "cell_type": "code",
   "execution_count": 10,
   "id": "06574546-5b5b-4f39-ab23-880843e7814a",
   "metadata": {},
   "outputs": [
    {
     "name": "stdout",
     "output_type": "stream",
     "text": [
      "On average we found 96.22222222222223 % connections in the time frame of 3h.\n"
     ]
    }
   ],
   "source": [
    "diff_duration_list, diff_walking_list, diff_nchanges_list = performance_csa_compared_googlemaps(stations,\n",
    "                                                                                                stops,\n",
    "                                                                                                arr_time_CSA, \n",
    "                                                                                                arr_time_GM, \n",
    "                                                                                                ls_timetable,\n",
    "                                                                                                print_ = False)"
   ]
  },
  {
   "cell_type": "markdown",
   "id": "5be6c750-2256-453a-bbb3-4c317d42cc46",
   "metadata": {},
   "source": [
    "### Plot of the differences"
   ]
  },
  {
   "cell_type": "code",
   "execution_count": 14,
   "id": "3b5772af-f38b-45a0-a2f3-6eaedccbc60b",
   "metadata": {},
   "outputs": [],
   "source": [
    "# convert from seconds to minutes for better readability in the plots:\n",
    "\n",
    "def seconds_to_minutes(seconds_list):\n",
    "    minutes_list = []\n",
    "    for seconds in seconds_list:\n",
    "        minutes = float(seconds) / 60.0\n",
    "        minutes_list.append(minutes)\n",
    "    return minutes_list\n",
    "\n",
    "diff_duration_list = seconds_to_minutes(diff_duration_list)\n",
    "diff_walking_list = seconds_to_minutes(diff_walking_list)"
   ]
  },
  {
   "cell_type": "code",
   "execution_count": 15,
   "id": "1900c9fc-0f82-4fb9-a0e3-d8702fc71609",
   "metadata": {},
   "outputs": [
    {
     "data": {
      "image/png": "[encoded data removed]",
      "text/plain": [
       "<Figure size 1440x720 with 3 Axes>"
      ]
     },
     "metadata": {
      "needs_background": "light"
     },
     "output_type": "display_data"
    }
   ],
   "source": [
    "import matplotlib.pyplot as plt\n",
    "import numpy as np\n",
    "\n",
    "# Create subplots with histograms\n",
    "fig, axs = plt.subplots(1, 3, figsize=(20, 10))\n",
    "\n",
    "# Plot histogram for duration\n",
    "axs[0].hist(diff_duration_list, bins=30, edgecolor='black')\n",
    "axs[0].set_title('Duration difference between Google Maps and CSA trips')\n",
    "\n",
    "# Calculate median for duration\n",
    "median_duration = np.median(diff_duration_list)\n",
    "axs[0].axvline(median_duration, color='red', linestyle='dashed', linewidth=2)\n",
    "axs[0].legend(['Median: {:.2f}'.format(median_duration)], loc='upper right')\n",
    "\n",
    "# Plot histogram for number of changes\n",
    "axs[1].hist(diff_nchanges_list, bins=30, edgecolor='black')\n",
    "axs[1].set_title('Number of changes difference between Google Maps and CSA trips')\n",
    "\n",
    "# Calculate median for number of changes\n",
    "median_nchanges = np.median(diff_nchanges_list)\n",
    "axs[1].axvline(median_nchanges, color='red', linestyle='dashed', linewidth=2)\n",
    "axs[1].legend(['Median: {:.2f}'.format(median_nchanges)], loc='upper right')\n",
    "\n",
    "# Plot histogram for walking time\n",
    "axs[2].hist(diff_walking_list, bins=30, edgecolor='black')\n",
    "axs[2].set_title('Walking difference between Google Maps and CSA trips')\n",
    "\n",
    "# Calculate median for walking time\n",
    "median_walking = np.median(diff_walking_list)\n",
    "axs[2].axvline(median_walking, color='red', linestyle='dashed', linewidth=2)\n",
    "axs[2].legend(['Median: {:.2f}'.format(median_walking)], loc='upper right')\n",
    "\n",
    "# Adjust spacing between subplots\n",
    "plt.tight_layout()\n",
    "\n",
    "# Display the subplots\n",
    "plt.show()\n"
   ]
  }
 ],
 "metadata": {
  "kernelspec": {
   "display_name": "Python 3 (ipykernel)",
   "language": "python",
   "name": "python3"
  },
  "language_info": {
   "codemirror_mode": {
    "name": "ipython",
    "version": 3
   },
   "file_extension": ".py",
   "mimetype": "text/x-python",
   "name": "python",
   "nbconvert_exporter": "python",
   "pygments_lexer": "ipython3",
   "version": "3.9.12"
  }
 },
 "nbformat": 4,
 "nbformat_minor": 5
}
