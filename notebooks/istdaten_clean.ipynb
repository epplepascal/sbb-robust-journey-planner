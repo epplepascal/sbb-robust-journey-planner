{
 "cells": [
  {
   "cell_type": "code",
   "execution_count": 1,
   "id": "51a3c963-2510-4b71-94b8-cf4f492179c6",
   "metadata": {},
   "outputs": [],
   "source": [
    "import os\n",
    "import warnings\n",
    "import pandas as pd\n",
    "import matplotlib.pyplot as plt\n",
    "import numpy as np\n",
    "\n",
    "warnings.simplefilter(action='ignore', category=UserWarning)"
   ]
  },
  {
   "cell_type": "code",
   "execution_count": 2,
   "id": "2e224d52-7c5f-426a-9f52-cf58875c562e",
   "metadata": {},
   "outputs": [
    {
     "name": "stdout",
     "output_type": "stream",
     "text": [
      "your username is lmarchan\n",
      "you are connected to iccluster044.iccluster.epfl.ch:10000\n"
     ]
    }
   ],
   "source": [
    "from pyhive import hive\n",
    "\n",
    "# Set python variables from environment variables\n",
    "username = os.environ['USERNAME']\n",
    "hive_host = os.environ['HIVE_SERVER2'].split(':')[0]\n",
    "hive_port = os.environ['HIVE_SERVER2'].split(':')[1]\n",
    "\n",
    "# create connection\n",
    "conn = hive.connect(\n",
    "    host=hive_host,\n",
    "    port=hive_port)\n",
    "\n",
    "# create cursor\n",
    "cur = conn.cursor()\n",
    "\n",
    "print(f\"your username is {username}\")\n",
    "print(f\"you are connected to {hive_host}:{hive_port}\")"
   ]
  },
  {
   "cell_type": "code",
   "execution_count": 3,
   "id": "641a5012-28fb-4062-a07c-beb348afb674",
   "metadata": {},
   "outputs": [],
   "source": [
    "query = f'CREATE DATABASE IF NOT EXISTS {username}'\n",
    "cur.execute(query)"
   ]
  },
  {
   "cell_type": "code",
   "execution_count": 4,
   "id": "8016d652-1ff4-491f-9ff6-7b036a12dfb3",
   "metadata": {},
   "outputs": [],
   "source": [
    "query = f\"USE {username}\"\n",
    "cur.execute(query)"
   ]
  },
  {
   "cell_type": "code",
   "execution_count": 9,
   "id": "5cab9271-44a5-478c-bb12-641e02471160",
   "metadata": {},
   "outputs": [
    {
     "name": "stdout",
     "output_type": "stream",
     "text": [
      "Cleaning up livy sessions on exit is enabled\n"
     ]
    }
   ],
   "source": [
    "%load_ext sparkmagic.magics"
   ]
  },
  {
   "cell_type": "code",
   "execution_count": 10,
   "id": "ab8571ba-4a13-4d9e-90ec-3fdbca33431e",
   "metadata": {},
   "outputs": [],
   "source": [
    "from IPython import get_ipython\n",
    "username = os.environ['RENKU_USERNAME']\n",
    "server = \"http://iccluster044.iccluster.epfl.ch:8998\"\n",
    "\n",
    "# set the application name as \"<your_gaspar_id>-homework3\"\n",
    "get_ipython().run_cell_magic(\n",
    "    'spark',\n",
    "    line='config', \n",
    "    cell=\"\"\"{{ \"name\": \"{0}-final-project2\", \"executorMemory\": \"4G\", \"executorCores\": 4, \"numExecutors\": 10, \"driverMemory\": \"4G\" }}\"\"\".format(username)\n",
    ")"
   ]
  },
  {
   "cell_type": "code",
   "execution_count": 11,
   "id": "0f2f0c86-2dfe-432a-8608-f6e3e0b8e5fe",
   "metadata": {},
   "outputs": [
    {
     "name": "stdout",
     "output_type": "stream",
     "text": [
      "Starting Spark application\n"
     ]
    },
    {
     "data": {
      "text/html": [
       "<table>\n",
       "<tr><th>ID</th><th>YARN Application ID</th><th>Kind</th><th>State</th><th>Spark UI</th><th>Driver log</th><th>User</th><th>Current session?</th></tr><tr><td>6138</td><td>application_1680948035106_5611</td><td>pyspark</td><td>idle</td><td><a target=\"_blank\" href=\"http://iccluster044.iccluster.epfl.ch:8088/proxy/application_1680948035106_5611/\">Link</a></td><td><a target=\"_blank\" href=\"http://iccluster055.iccluster.epfl.ch:8042/node/containerlogs/container_e01_1680948035106_5611_01_000001/ebouille\">Link</a></td><td>None</td><td>✔</td></tr></table>"
      ],
      "text/plain": [
       "<IPython.core.display.HTML object>"
      ]
     },
     "metadata": {},
     "output_type": "display_data"
    },
    {
     "data": {
      "application/vnd.jupyter.widget-view+json": {
       "model_id": "",
       "version_major": 2,
       "version_minor": 0
      },
      "text/plain": [
       "FloatProgress(value=0.0, bar_style='info', description='Progress:', layout=Layout(height='25px', width='50%'),…"
      ]
     },
     "metadata": {},
     "output_type": "display_data"
    },
    {
     "name": "stdout",
     "output_type": "stream",
     "text": [
      "SparkSession available as 'spark'.\n"
     ]
    }
   ],
   "source": [
    "get_ipython().run_line_magic(\n",
    "    \"spark\", f\"\"\"add -s {username}-final-project2 -l python -u {server} -k\"\"\"\n",
    ")"
   ]
  },
  {
   "cell_type": "code",
   "execution_count": 13,
   "id": "c866fbd4-d4e9-469f-af30-93d62ef9e78c",
   "metadata": {},
   "outputs": [
    {
     "data": {
      "application/vnd.jupyter.widget-view+json": {
       "model_id": "",
       "version_major": 2,
       "version_minor": 0
      },
      "text/plain": [
       "FloatProgress(value=0.0, bar_style='info', description='Progress:', layout=Layout(height='25px', width='50%'),…"
      ]
     },
     "metadata": {},
     "output_type": "display_data"
    },
    {
     "name": "stdout",
     "output_type": "stream",
     "text": [
      "883241383"
     ]
    }
   ],
   "source": [
    "%%spark\n",
    "#load a istdaten with the only the stops around 18km around Zurich\n",
    "df_valid = spark.read.orc(f\"/user/epple/hive/sbb_orc_istdaten_new\")\n",
    "df_valid.count()"
   ]
  },
  {
   "cell_type": "code",
   "execution_count": 14,
   "id": "195edac0-5cb1-48c0-af38-8147064506aa",
   "metadata": {},
   "outputs": [
    {
     "data": {
      "application/vnd.jupyter.widget-view+json": {
       "model_id": "",
       "version_major": 2,
       "version_minor": 0
      },
      "text/plain": [
       "FloatProgress(value=0.0, bar_style='info', description='Progress:', layout=Layout(height='25px', width='50%'),…"
      ]
     },
     "metadata": {},
     "output_type": "display_data"
    },
    {
     "name": "stdout",
     "output_type": "stream",
     "text": [
      "8837471"
     ]
    }
   ],
   "source": [
    "%%spark\n",
    "df = df_valid.sample(0.01)  #we work on a sample of 1% of istdaten randomly chosen\n",
    "df.count()"
   ]
  },
  {
   "cell_type": "code",
   "execution_count": 16,
   "id": "6f66b2c5-bfec-42a7-8a9a-f12ad2f567e1",
   "metadata": {},
   "outputs": [
    {
     "data": {
      "application/vnd.jupyter.widget-view+json": {
       "model_id": "",
       "version_major": 2,
       "version_minor": 0
      },
      "text/plain": [
       "FloatProgress(value=0.0, bar_style='info', description='Progress:', layout=Layout(height='25px', width='50%'),…"
      ]
     },
     "metadata": {},
     "output_type": "display_data"
    }
   ],
   "source": [
    "%%spark\n",
    "import pyspark.sql.functions as F\n",
    "from pyspark.sql import DataFrameStatFunctions\n",
    "import pandas as pd\n",
    "from pyspark.sql.functions import col, lower, to_timestamp, date_format, avg, hour"
   ]
  },
  {
   "cell_type": "code",
   "execution_count": 17,
   "id": "0ff181bf-6dd9-443c-bc41-a360fa7429d8",
   "metadata": {},
   "outputs": [
    {
     "data": {
      "application/vnd.jupyter.widget-view+json": {
       "model_id": "",
       "version_major": 2,
       "version_minor": 0
      },
      "text/plain": [
       "FloatProgress(value=0.0, bar_style='info', description='Progress:', layout=Layout(height='25px', width='50%'),…"
      ]
     },
     "metadata": {},
     "output_type": "display_data"
    }
   ],
   "source": [
    "%%spark\n",
    "#compute the delays actual_arrival - expected_arrival\n",
    "df_delays = df.select('*', (F.unix_timestamp(F.to_timestamp(df.an_prognose, format ='dd.MM.yyyy HH:mm:ss')) - F.unix_timestamp(F.to_timestamp(df.ankunftszeit,format ='dd.MM.yyyy HH:mm'))).alias('delay'))\n"
   ]
  },
  {
   "cell_type": "code",
   "execution_count": 18,
   "id": "903ac261-ac8a-45c8-a63a-004b28e23f0c",
   "metadata": {},
   "outputs": [
    {
     "data": {
      "application/vnd.jupyter.widget-view+json": {
       "model_id": "",
       "version_major": 2,
       "version_minor": 0
      },
      "text/plain": [
       "FloatProgress(value=0.0, bar_style='info', description='Progress:', layout=Layout(height='25px', width='50%'),…"
      ]
     },
     "metadata": {},
     "output_type": "display_data"
    },
    {
     "name": "stdout",
     "output_type": "stream",
     "text": [
      "+----------------+----------+-----------------+----------------+-------------------+-----+\n",
      "|fahrt_bezeichner|produkt_id|haltestellen_name|    ankunftszeit|        an_prognose|delay|\n",
      "+----------------+----------+-----------------+----------------+-------------------+-----+\n",
      "| 85:11:18220:003|       Zug|      Zürich Enge|11.09.2018 06:06|11.09.2018 06:05:38|  -22|\n",
      "| 85:11:18220:003|       Zug|        Zürich HB|11.09.2018 06:12|11.09.2018 06:11:14|  -46|\n",
      "| 85:11:18232:002|       Zug|        Altendorf|11.09.2018 08:32|11.09.2018 08:33:07|   67|\n",
      "| 85:11:18248:002|       Zug|           Horgen|11.09.2018 12:53|11.09.2018 12:53:08|    8|\n",
      "| 85:11:18248:002|       Zug|      Zürich Enge|11.09.2018 13:06|11.09.2018 13:05:23|  -37|\n",
      "| 85:11:18256:002|       Zug|           Horgen|11.09.2018 14:53|11.09.2018 14:53:14|   14|\n",
      "| 85:11:18257:001|       Zug|      Zürich Enge|11.09.2018 15:22|11.09.2018 15:22:09|    9|\n",
      "| 85:11:18257:001|       Zug|        Altendorf|11.09.2018 15:54|11.09.2018 15:54:03|    3|\n",
      "| 85:11:18265:001|       Zug| Zürich Flughafen|                |                   | null|\n",
      "| 85:11:18274:001|       Zug|  Zürich Wiedikon|11.09.2018 19:37|11.09.2018 19:37:35|   35|\n",
      "+----------------+----------+-----------------+----------------+-------------------+-----+\n",
      "only showing top 10 rows"
     ]
    }
   ],
   "source": [
    "%%spark\n",
    "#select only the useful columns stop_id, type of transport, stop name, expected_arrival, actual_arrival, delay \n",
    "ls = ['fahrt_bezeichner','produkt_id', 'haltestellen_name', 'ankunftszeit', 'an_prognose', 'delay']\n",
    "df_delays_filter = df_delays.select(ls)\n",
    "df_delays_filter.show(10) "
   ]
  },
  {
   "cell_type": "code",
   "execution_count": 20,
   "id": "0222c1bb-3ceb-423d-9581-654a41257b86",
   "metadata": {},
   "outputs": [
    {
     "data": {
      "application/vnd.jupyter.widget-view+json": {
       "model_id": "",
       "version_major": 2,
       "version_minor": 0
      },
      "text/plain": [
       "FloatProgress(value=0.0, bar_style='info', description='Progress:', layout=Layout(height='25px', width='50%'),…"
      ]
     },
     "metadata": {},
     "output_type": "display_data"
    },
    {
     "name": "stdout",
     "output_type": "stream",
     "text": [
      "+----------------+----------+-----------------+----------------+-------------------+-----+--------------+\n",
      "|fahrt_bezeichner|produkt_id|haltestellen_name|    ankunftszeit|        an_prognose|delay|positive_delay|\n",
      "+----------------+----------+-----------------+----------------+-------------------+-----+--------------+\n",
      "| 85:11:18220:003|       Zug|      Zürich Enge|11.09.2018 06:06|11.09.2018 06:05:38|  -22|             0|\n",
      "| 85:11:18220:003|       Zug|        Zürich HB|11.09.2018 06:12|11.09.2018 06:11:14|  -46|             0|\n",
      "| 85:11:18232:002|       Zug|        Altendorf|11.09.2018 08:32|11.09.2018 08:33:07|   67|            67|\n",
      "| 85:11:18248:002|       Zug|           Horgen|11.09.2018 12:53|11.09.2018 12:53:08|    8|             8|\n",
      "| 85:11:18248:002|       Zug|      Zürich Enge|11.09.2018 13:06|11.09.2018 13:05:23|  -37|             0|\n",
      "| 85:11:18256:002|       Zug|           Horgen|11.09.2018 14:53|11.09.2018 14:53:14|   14|            14|\n",
      "| 85:11:18257:001|       Zug|      Zürich Enge|11.09.2018 15:22|11.09.2018 15:22:09|    9|             9|\n",
      "| 85:11:18257:001|       Zug|        Altendorf|11.09.2018 15:54|11.09.2018 15:54:03|    3|             3|\n",
      "| 85:11:18265:001|       Zug| Zürich Flughafen|                |                   | null|             0|\n",
      "| 85:11:18274:001|       Zug|  Zürich Wiedikon|11.09.2018 19:37|11.09.2018 19:37:35|   35|            35|\n",
      "+----------------+----------+-----------------+----------------+-------------------+-----+--------------+\n",
      "only showing top 10 rows"
     ]
    }
   ],
   "source": [
    "%%spark\n",
    "#change the negative delays to 0\n",
    "df_delays_filter = df_delays_filter.withColumn(\"positive_delay\", F.when(df_delays.delay > 0, df_delays.delay).otherwise(0))\n",
    "df_delays_filter.show(10)"
   ]
  },
  {
   "cell_type": "code",
   "execution_count": 22,
   "id": "16da4586-6afd-4e7f-b6ac-b88a4159ab78",
   "metadata": {},
   "outputs": [
    {
     "data": {
      "application/vnd.jupyter.widget-view+json": {
       "model_id": "",
       "version_major": 2,
       "version_minor": 0
      },
      "text/plain": [
       "FloatProgress(value=0.0, bar_style='info', description='Progress:', layout=Layout(height='25px', width='50%'),…"
      ]
     },
     "metadata": {},
     "output_type": "display_data"
    },
    {
     "name": "stdout",
     "output_type": "stream",
     "text": [
      "+----------------+----------+-----------------+----------------+-------------------+-----+--------------+\n",
      "|fahrt_bezeichner|produkt_id|haltestellen_name|    ankunftszeit|        an_prognose|delay|positive_delay|\n",
      "+----------------+----------+-----------------+----------------+-------------------+-----+--------------+\n",
      "| 85:11:18220:003|       zug|      Zürich Enge|11.09.2018 06:06|11.09.2018 06:05:38|  -22|             0|\n",
      "| 85:11:18220:003|       zug|        Zürich HB|11.09.2018 06:12|11.09.2018 06:11:14|  -46|             0|\n",
      "| 85:11:18232:002|       zug|        Altendorf|11.09.2018 08:32|11.09.2018 08:33:07|   67|            67|\n",
      "| 85:11:18248:002|       zug|           Horgen|11.09.2018 12:53|11.09.2018 12:53:08|    8|             8|\n",
      "| 85:11:18248:002|       zug|      Zürich Enge|11.09.2018 13:06|11.09.2018 13:05:23|  -37|             0|\n",
      "+----------------+----------+-----------------+----------------+-------------------+-----+--------------+\n",
      "only showing top 5 rows"
     ]
    }
   ],
   "source": [
    "%%spark\n",
    "#change the type of transport to lowercase because there are 2 types bus (BUS, bus)\n",
    "df_delays_filter = df_delays_filter.withColumn('produkt_id', lower(col('produkt_id')));\n",
    "df_delays_filter.show(5)"
   ]
  },
  {
   "cell_type": "code",
   "execution_count": 23,
   "id": "dc2a61b6-8db8-48b9-a334-ca088885b937",
   "metadata": {},
   "outputs": [
    {
     "data": {
      "application/vnd.jupyter.widget-view+json": {
       "model_id": "",
       "version_major": 2,
       "version_minor": 0
      },
      "text/plain": [
       "FloatProgress(value=0.0, bar_style='info', description='Progress:', layout=Layout(height='25px', width='50%'),…"
      ]
     },
     "metadata": {},
     "output_type": "display_data"
    },
    {
     "name": "stdout",
     "output_type": "stream",
     "text": [
      "+----------------+----------+-----------------+----------------+-------------------+-----+--------------+\n",
      "|fahrt_bezeichner|produkt_id|haltestellen_name|    ankunftszeit|        an_prognose|delay|positive_delay|\n",
      "+----------------+----------+-----------------+----------------+-------------------+-----+--------------+\n",
      "| 85:11:18220:003|       zug|      Zürich Enge|11.09.2018 06:06|11.09.2018 06:05:38|  -22|             0|\n",
      "| 85:11:18220:003|       zug|        Zürich HB|11.09.2018 06:12|11.09.2018 06:11:14|  -46|             0|\n",
      "| 85:11:18232:002|       zug|        Altendorf|11.09.2018 08:32|11.09.2018 08:33:07|   67|            67|\n",
      "| 85:11:18248:002|       zug|           Horgen|11.09.2018 12:53|11.09.2018 12:53:08|    8|             8|\n",
      "| 85:11:18248:002|       zug|      Zürich Enge|11.09.2018 13:06|11.09.2018 13:05:23|  -37|             0|\n",
      "+----------------+----------+-----------------+----------------+-------------------+-----+--------------+\n",
      "only showing top 5 rows"
     ]
    }
   ],
   "source": [
    "%%spark\n",
    "#remove the rows without data on delays\n",
    "df_delays_filter = df_delays_filter.filter(col(\"delay\").isNotNull())\n",
    "df_delays_filter.show(5)"
   ]
  },
  {
   "cell_type": "code",
   "execution_count": 25,
   "id": "fbe78519-25ad-42db-9c1c-6ca903195b5b",
   "metadata": {},
   "outputs": [
    {
     "data": {
      "application/vnd.jupyter.widget-view+json": {
       "model_id": "",
       "version_major": 2,
       "version_minor": 0
      },
      "text/plain": [
       "FloatProgress(value=0.0, bar_style='info', description='Progress:', layout=Layout(height='25px', width='50%'),…"
      ]
     },
     "metadata": {},
     "output_type": "display_data"
    },
    {
     "name": "stdout",
     "output_type": "stream",
     "text": [
      "+----------------+----------+-----------------+----------------+-------------------+-----+--------------+------------+\n",
      "|fahrt_bezeichner|produkt_id|haltestellen_name|    ankunftszeit|        an_prognose|delay|positive_delay|week_day_abb|\n",
      "+----------------+----------+-----------------+----------------+-------------------+-----+--------------+------------+\n",
      "| 85:11:18220:003|       zug|      Zürich Enge|11.09.2018 06:06|2018-09-11 06:05:38|  -22|             0|         Tue|\n",
      "| 85:11:18220:003|       zug|        Zürich HB|11.09.2018 06:12|2018-09-11 06:11:14|  -46|             0|         Tue|\n",
      "| 85:11:18232:002|       zug|        Altendorf|11.09.2018 08:32|2018-09-11 08:33:07|   67|            67|         Tue|\n",
      "| 85:11:18248:002|       zug|           Horgen|11.09.2018 12:53|2018-09-11 12:53:08|    8|             8|         Tue|\n",
      "| 85:11:18248:002|       zug|      Zürich Enge|11.09.2018 13:06|2018-09-11 13:05:23|  -37|             0|         Tue|\n",
      "+----------------+----------+-----------------+----------------+-------------------+-----+--------------+------------+\n",
      "only showing top 5 rows"
     ]
    }
   ],
   "source": [
    "%%spark\n",
    "#add a column with the day of the week\n",
    "df_days_w = df_delays_filter.withColumn(\"an_prognose\",F.to_timestamp(col(\"an_prognose\"), format ='dd.MM.yyyy HH:mm:ss')).withColumn(\"week_day_abb\", date_format(col(\"an_prognose\"), \"E\"))\n",
    "df_days_w.show(5)\n",
    "\n"
   ]
  },
  {
   "cell_type": "code",
   "execution_count": 26,
   "id": "d06da216-490f-4236-aeb9-d64a064073df",
   "metadata": {},
   "outputs": [
    {
     "data": {
      "application/vnd.jupyter.widget-view+json": {
       "model_id": "",
       "version_major": 2,
       "version_minor": 0
      },
      "text/plain": [
       "FloatProgress(value=0.0, bar_style='info', description='Progress:', layout=Layout(height='25px', width='50%'),…"
      ]
     },
     "metadata": {},
     "output_type": "display_data"
    },
    {
     "name": "stdout",
     "output_type": "stream",
     "text": [
      "['Sun', 'Mon', 'Thu', 'Sat', 'Wed', 'Fri', 'Tue']"
     ]
    }
   ],
   "source": [
    "%%spark\n",
    "#create a list with all the days of the week\n",
    "days =df_days_w.select('week_day_abb').distinct().rdd.flatMap(lambda x: x).collect()\n",
    "print(days)"
   ]
  },
  {
   "cell_type": "code",
   "execution_count": 27,
   "id": "f1dc72e4-5069-4ec7-9456-61064dde7c9e",
   "metadata": {},
   "outputs": [
    {
     "data": {
      "application/vnd.jupyter.widget-view+json": {
       "model_id": "",
       "version_major": 2,
       "version_minor": 0
      },
      "text/plain": [
       "FloatProgress(value=0.0, bar_style='info', description='Progress:', layout=Layout(height='25px', width='50%'),…"
      ]
     },
     "metadata": {},
     "output_type": "display_data"
    },
    {
     "name": "stdout",
     "output_type": "stream",
     "text": [
      "['bus', 'zug', 'tram']"
     ]
    }
   ],
   "source": [
    "%%spark\n",
    "#create a list with all the type of transport\n",
    "#we do not consider the funicular\n",
    "ttype = df_delays_filter.select('produkt_id').distinct().rdd.flatMap(lambda x: x).collect()\n",
    "ttype = ttype[:3]\n",
    "print(ttype)"
   ]
  },
  {
   "cell_type": "code",
   "execution_count": 34,
   "id": "80f187a4-5a7e-4381-890f-083e69a07f54",
   "metadata": {},
   "outputs": [
    {
     "data": {
      "application/vnd.jupyter.widget-view+json": {
       "model_id": "",
       "version_major": 2,
       "version_minor": 0
      },
      "text/plain": [
       "FloatProgress(value=0.0, bar_style='info', description='Progress:', layout=Layout(height='25px', width='50%'),…"
      ]
     },
     "metadata": {},
     "output_type": "display_data"
    },
    {
     "name": "stdout",
     "output_type": "stream",
     "text": [
      "+----------------+----------+-----------------+----------------+-------------------+-----+--------------+------------+-----+\n",
      "|fahrt_bezeichner|produkt_id|haltestellen_name|    ankunftszeit|        an_prognose|delay|positive_delay|week_day_abb|hours|\n",
      "+----------------+----------+-----------------+----------------+-------------------+-----+--------------+------------+-----+\n",
      "| 85:11:18220:003|       zug|      Zürich Enge|11.09.2018 06:06|2018-09-11 06:05:38|  -22|             0|         Tue|    6|\n",
      "| 85:11:18220:003|       zug|        Zürich HB|11.09.2018 06:12|2018-09-11 06:11:14|  -46|             0|         Tue|    6|\n",
      "| 85:11:18232:002|       zug|        Altendorf|11.09.2018 08:32|2018-09-11 08:33:07|   67|            67|         Tue|    8|\n",
      "| 85:11:18248:002|       zug|           Horgen|11.09.2018 12:53|2018-09-11 12:53:08|    8|             8|         Tue|   12|\n",
      "| 85:11:18248:002|       zug|      Zürich Enge|11.09.2018 13:06|2018-09-11 13:05:23|  -37|             0|         Tue|   13|\n",
      "+----------------+----------+-----------------+----------------+-------------------+-----+--------------+------------+-----+\n",
      "only showing top 5 rows"
     ]
    }
   ],
   "source": [
    "%%spark\n",
    "#extract the hours of the trip\n",
    "df_days_w =df_days_w.withColumn(\"hours\", hour(col(\"an_prognose\")))\n",
    "df_days_w.show(5)"
   ]
  },
  {
   "cell_type": "code",
   "execution_count": 36,
   "id": "6757ff11-37b3-4b0b-a188-30f239c59c63",
   "metadata": {},
   "outputs": [
    {
     "data": {
      "application/vnd.jupyter.widget-view+json": {
       "model_id": "",
       "version_major": 2,
       "version_minor": 0
      },
      "text/plain": [
       "FloatProgress(value=0.0, bar_style='info', description='Progress:', layout=Layout(height='25px', width='50%'),…"
      ]
     },
     "metadata": {},
     "output_type": "display_data"
    },
    {
     "name": "stdout",
     "output_type": "stream",
     "text": [
      "['0-20', '20-40', '40-60', '60-80', '80-100', '100-120', '120-140', '140-160', '160-180', '180-200']\n",
      "                  0-20 20-40 40-60 60-80  ... 120-140 140-160 160-180 180-200\n",
      "Mon - bus 6h-9h    NaN   NaN   NaN   NaN  ...     NaN     NaN     NaN     NaN\n",
      "Mon - bus 9h-16h   NaN   NaN   NaN   NaN  ...     NaN     NaN     NaN     NaN\n",
      "Mon - bus 16-21h   NaN   NaN   NaN   NaN  ...     NaN     NaN     NaN     NaN\n",
      "Mon - tram 6h-9h   NaN   NaN   NaN   NaN  ...     NaN     NaN     NaN     NaN\n",
      "Mon - tram 9h-16h  NaN   NaN   NaN   NaN  ...     NaN     NaN     NaN     NaN\n",
      "Mon - tram 16-21h  NaN   NaN   NaN   NaN  ...     NaN     NaN     NaN     NaN\n",
      "Mon - zug 6h-9h    NaN   NaN   NaN   NaN  ...     NaN     NaN     NaN     NaN\n",
      "Mon - zug 9h-16h   NaN   NaN   NaN   NaN  ...     NaN     NaN     NaN     NaN\n",
      "Mon - zug 16-21h   NaN   NaN   NaN   NaN  ...     NaN     NaN     NaN     NaN\n",
      "Tue - bus 6h-9h    NaN   NaN   NaN   NaN  ...     NaN     NaN     NaN     NaN\n",
      "\n",
      "[10 rows x 10 columns]"
     ]
    }
   ],
   "source": [
    "%%spark\n",
    "# create a list called combinations with all the possible combinations \n",
    "# create a list called bacth with all delays threshold between 0 to 200s in range of 20s\n",
    "batch = list(range(0,220,20))\n",
    "comb = []\n",
    "for i in range(len(batch)-1):\n",
    "    tmp = str(batch[i]) + \"-\" + str(batch[i+1])\n",
    "    comb.append(tmp)  # create a list with 2 batch together \n",
    "    \n",
    "days = ['Mon', 'Tue', 'Wed', 'Thu','Fri', 'Sat', 'Sun']\n",
    "ttype = ['bus', 'tram', 'zug']\n",
    "hours_merge = ['6h-9h', '9h-16h','16-21h']\n",
    "hours = [6,9,16,21]\n",
    "\n",
    "\n",
    "combinations = []  #will be a list with all the possible combinations between the days, type of transport and moment in the day \n",
    "for week in days:\n",
    "    for type in ttype:\n",
    "        for h in hours_merge:\n",
    "            # Create a combination by concatenating the week name and type\n",
    "            combination = week + \" - \" + type + \" \" + h\n",
    "            # Add the combination to the list\n",
    "            combinations.append(combination)  \n",
    "\n",
    "\n",
    "columns = comb\n",
    "rows = combinations\n",
    "\n",
    "# create an empty df to store all the info we will collect for the statistics\n",
    "df_stat_ist = pd.DataFrame(columns=columns, index=rows)   #create an empty dataframe with all the combinations as rows and the batch as columns\n",
    "df_stat_ist.head()"
   ]
  },
  {
   "cell_type": "code",
   "execution_count": 37,
   "id": "4c2df15b-b679-451a-b2ff-c23eac1968a5",
   "metadata": {},
   "outputs": [
    {
     "data": {
      "application/vnd.jupyter.widget-view+json": {
       "model_id": "",
       "version_major": 2,
       "version_minor": 0
      },
      "text/plain": [
       "FloatProgress(value=0.0, bar_style='info', description='Progress:', layout=Layout(height='25px', width='50%'),…"
      ]
     },
     "metadata": {},
     "output_type": "display_data"
    },
    {
     "name": "stdout",
     "output_type": "stream",
     "text": [
      "                    0-20  20-40  40-60  60-80  ... 120-140 140-160 160-180 180-200\n",
      "Mon - bus 6h-9h    37195  26590  33541  27121  ...   12157    8511    5902    4203\n",
      "Mon - bus 9h-16h   72649  52743  66104  54674  ...   24634   17319   11806    8184\n",
      "Mon - bus 16-21h   62620  40909  49026  39209  ...   19197   14119   10403    7927\n",
      "Mon - tram 6h-9h   15055   7783   8316   4889  ...    1623    1110     751     518\n",
      "Mon - tram 9h-16h  38954  19274  19353  10459  ...    3096    2026    1343     907\n",
      "\n",
      "[5 rows x 10 columns]"
     ]
    }
   ],
   "source": [
    "%%spark\n",
    "#fill out the dataframe\n",
    "k = 0\n",
    "for idx,day in enumerate(days):\n",
    "    for idx2,t in enumerate(ttype):\n",
    "        w = 0\n",
    "        for h in range(len(hours)-1):\n",
    "            for i in range(len(batch)-1):\n",
    "                number = df_days_w.filter((df_days_w.positive_delay >= batch[i] ) & (df_days_w.positive_delay < batch[i+1]) & (df_days_w.week_day_abb == day) & (df_days_w.produkt_id == t ) & (df_days_w.hours >= hours[h] ) & (df_days_w.hours < hours[h+1]) ).count()\n",
    "                df_stat_ist.iloc[k+w,i] = number\n",
    "            w = w + 1\n",
    "        k = k + 3\n",
    "df_stat_ist.head()"
   ]
  },
  {
   "cell_type": "code",
   "execution_count": 40,
   "id": "e88b3ccd-acff-4b0e-ba8d-13ccf1f32fb7",
   "metadata": {},
   "outputs": [
    {
     "data": {
      "application/vnd.jupyter.widget-view+json": {
       "model_id": "",
       "version_major": 2,
       "version_minor": 0
      },
      "text/plain": [
       "FloatProgress(value=0.0, bar_style='info', description='Progress:', layout=Layout(height='25px', width='50%'),…"
      ]
     },
     "metadata": {},
     "output_type": "display_data"
    },
    {
     "data": {
      "application/vnd.jupyter.widget-view+json": {
       "model_id": "",
       "version_major": 2,
       "version_minor": 0
      },
      "text/plain": [
       "FloatProgress(value=0.0, bar_style='info', description='Progress:', layout=Layout(height='25px', width='50%'),…"
      ]
     },
     "metadata": {},
     "output_type": "display_data"
    }
   ],
   "source": [
    "%%spark -o df_istaden_stat -n -1\n",
    "df_istaden_stat = spark.createDataFrame(df_stat_ist.reset_index())  # transfer into a spark df and save it"
   ]
  },
  {
   "cell_type": "code",
   "execution_count": 3,
   "id": "af754ab4-c2ad-462b-8911-35357715d052",
   "metadata": {},
   "outputs": [
    {
     "ename": "NameError",
     "evalue": "name 'df_istaden_stat' is not defined",
     "output_type": "error",
     "traceback": [
      "\u001b[0;31m---------------------------------------------------------------------------\u001b[0m",
      "\u001b[0;31mNameError\u001b[0m                                 Traceback (most recent call last)",
      "Input \u001b[0;32mIn [3]\u001b[0m, in \u001b[0;36m<cell line: 1>\u001b[0;34m()\u001b[0m\n\u001b[0;32m----> 1\u001b[0m \u001b[43mdf_istaden_stat\u001b[49m\u001b[38;5;241m.\u001b[39mto_csv(\u001b[38;5;124m\"\u001b[39m\u001b[38;5;124mstat_timeday.csv\u001b[39m\u001b[38;5;124m\"\u001b[39m)\n",
      "\u001b[0;31mNameError\u001b[0m: name 'df_istaden_stat' is not defined"
     ]
    }
   ],
   "source": [
    "df_istaden_stat.to_csv(\"stat_timeday.csv\")"
   ]
  },
  {
   "cell_type": "code",
   "execution_count": 51,
   "id": "50f2daab-16e5-43f1-85bd-cd26442b106b",
   "metadata": {},
   "outputs": [
    {
     "data": {
      "text/plain": [
       "<BarContainer object of 10 artists>"
      ]
     },
     "execution_count": 51,
     "metadata": {},
     "output_type": "execute_result"
    },
    {
     "data": {
      "image/png": "[encoded data removed]",
      "text/plain": [
       "<Figure size 432x288 with 1 Axes>"
      ]
     },
     "metadata": {
      "needs_background": "light"
     },
     "output_type": "display_data"
    }
   ],
   "source": [
    "#check if the statistics we computed on istdaten make sense by plotting the distribution on 1 line\n",
    "frequencies = df_istaden_stat.iloc[0].tolist()[1:]\n",
    "bin_ranges = list(range(0,220,20))\n",
    "bin_centers = [(bin_ranges[i] + bin_ranges[i+1]) / 2 for i in range(len(bin_ranges)-1)]\n",
    "plt.bar(bin_centers, frequencies, width=np.diff(bin_ranges), edgecolor='black')"
   ]
  },
  {
   "cell_type": "code",
   "execution_count": 66,
   "id": "4d0d2f1d-81b9-4a98-ac0e-f155851dfa43",
   "metadata": {},
   "outputs": [
    {
     "data": {
      "text/html": [
       "<div>\n",
       "<style scoped>\n",
       "    .dataframe tbody tr th:only-of-type {\n",
       "        vertical-align: middle;\n",
       "    }\n",
       "\n",
       "    .dataframe tbody tr th {\n",
       "        vertical-align: top;\n",
       "    }\n",
       "\n",
       "    .dataframe thead th {\n",
       "        text-align: right;\n",
       "    }\n",
       "</style>\n",
       "<table border=\"1\" class=\"dataframe\">\n",
       "  <thead>\n",
       "    <tr style=\"text-align: right;\">\n",
       "      <th></th>\n",
       "      <th>Unnamed: 0</th>\n",
       "      <th>index</th>\n",
       "      <th>0-20</th>\n",
       "      <th>20-40</th>\n",
       "      <th>40-60</th>\n",
       "      <th>60-80</th>\n",
       "      <th>80-100</th>\n",
       "      <th>100-120</th>\n",
       "      <th>120-140</th>\n",
       "      <th>140-160</th>\n",
       "      <th>160-180</th>\n",
       "      <th>180-200</th>\n",
       "    </tr>\n",
       "  </thead>\n",
       "  <tbody>\n",
       "    <tr>\n",
       "      <th>0</th>\n",
       "      <td>0</td>\n",
       "      <td>Mon - bus 6h-9h</td>\n",
       "      <td>37195</td>\n",
       "      <td>26590</td>\n",
       "      <td>33541</td>\n",
       "      <td>27121</td>\n",
       "      <td>23985</td>\n",
       "      <td>16472</td>\n",
       "      <td>12157</td>\n",
       "      <td>8511</td>\n",
       "      <td>5902</td>\n",
       "      <td>4203</td>\n",
       "    </tr>\n",
       "    <tr>\n",
       "      <th>1</th>\n",
       "      <td>1</td>\n",
       "      <td>Mon - bus 9h-16h</td>\n",
       "      <td>72649</td>\n",
       "      <td>52743</td>\n",
       "      <td>66104</td>\n",
       "      <td>54674</td>\n",
       "      <td>48090</td>\n",
       "      <td>33701</td>\n",
       "      <td>24634</td>\n",
       "      <td>17319</td>\n",
       "      <td>11806</td>\n",
       "      <td>8184</td>\n",
       "    </tr>\n",
       "    <tr>\n",
       "      <th>2</th>\n",
       "      <td>2</td>\n",
       "      <td>Mon - bus 16-21h</td>\n",
       "      <td>62620</td>\n",
       "      <td>40909</td>\n",
       "      <td>49026</td>\n",
       "      <td>39209</td>\n",
       "      <td>35376</td>\n",
       "      <td>24895</td>\n",
       "      <td>19197</td>\n",
       "      <td>14119</td>\n",
       "      <td>10403</td>\n",
       "      <td>7927</td>\n",
       "    </tr>\n",
       "    <tr>\n",
       "      <th>3</th>\n",
       "      <td>3</td>\n",
       "      <td>Mon - tram 6h-9h</td>\n",
       "      <td>15055</td>\n",
       "      <td>7783</td>\n",
       "      <td>8316</td>\n",
       "      <td>4889</td>\n",
       "      <td>3837</td>\n",
       "      <td>2358</td>\n",
       "      <td>1623</td>\n",
       "      <td>1110</td>\n",
       "      <td>751</td>\n",
       "      <td>518</td>\n",
       "    </tr>\n",
       "    <tr>\n",
       "      <th>4</th>\n",
       "      <td>4</td>\n",
       "      <td>Mon - tram 9h-16h</td>\n",
       "      <td>38954</td>\n",
       "      <td>19274</td>\n",
       "      <td>19353</td>\n",
       "      <td>10459</td>\n",
       "      <td>8131</td>\n",
       "      <td>4702</td>\n",
       "      <td>3096</td>\n",
       "      <td>2026</td>\n",
       "      <td>1343</td>\n",
       "      <td>907</td>\n",
       "    </tr>\n",
       "  </tbody>\n",
       "</table>\n",
       "</div>"
      ],
      "text/plain": [
       "   Unnamed: 0              index   0-20  20-40  40-60  60-80  80-100  100-120  \\\n",
       "0           0    Mon - bus 6h-9h  37195  26590  33541  27121   23985    16472   \n",
       "1           1   Mon - bus 9h-16h  72649  52743  66104  54674   48090    33701   \n",
       "2           2   Mon - bus 16-21h  62620  40909  49026  39209   35376    24895   \n",
       "3           3   Mon - tram 6h-9h  15055   7783   8316   4889    3837     2358   \n",
       "4           4  Mon - tram 9h-16h  38954  19274  19353  10459    8131     4702   \n",
       "\n",
       "   120-140  140-160  160-180  180-200  \n",
       "0    12157     8511     5902     4203  \n",
       "1    24634    17319    11806     8184  \n",
       "2    19197    14119    10403     7927  \n",
       "3     1623     1110      751      518  \n",
       "4     3096     2026     1343      907  "
      ]
     },
     "execution_count": 66,
     "metadata": {},
     "output_type": "execute_result"
    }
   ],
   "source": [
    "#load the df with all the statistics\n",
    "stat_istdaten = pd.read_csv('stat_timeday.csv')\n",
    "indexx = stat_istdaten['index']\n",
    "stat_istdaten.head()"
   ]
  },
  {
   "cell_type": "code",
   "execution_count": 67,
   "id": "de16e3ed-59e7-4582-b25b-007c6e8a5728",
   "metadata": {},
   "outputs": [
    {
     "data": {
      "text/html": [
       "<div>\n",
       "<style scoped>\n",
       "    .dataframe tbody tr th:only-of-type {\n",
       "        vertical-align: middle;\n",
       "    }\n",
       "\n",
       "    .dataframe tbody tr th {\n",
       "        vertical-align: top;\n",
       "    }\n",
       "\n",
       "    .dataframe thead th {\n",
       "        text-align: right;\n",
       "    }\n",
       "</style>\n",
       "<table border=\"1\" class=\"dataframe\">\n",
       "  <thead>\n",
       "    <tr style=\"text-align: right;\">\n",
       "      <th></th>\n",
       "      <th>0-20</th>\n",
       "      <th>20-40</th>\n",
       "      <th>40-60</th>\n",
       "      <th>60-80</th>\n",
       "      <th>80-100</th>\n",
       "      <th>100-120</th>\n",
       "      <th>120-140</th>\n",
       "      <th>140-160</th>\n",
       "      <th>160-180</th>\n",
       "      <th>180-200</th>\n",
       "    </tr>\n",
       "  </thead>\n",
       "  <tbody>\n",
       "    <tr>\n",
       "      <th>0</th>\n",
       "      <td>37195</td>\n",
       "      <td>26590</td>\n",
       "      <td>33541</td>\n",
       "      <td>27121</td>\n",
       "      <td>23985</td>\n",
       "      <td>16472</td>\n",
       "      <td>12157</td>\n",
       "      <td>8511</td>\n",
       "      <td>5902</td>\n",
       "      <td>4203</td>\n",
       "    </tr>\n",
       "    <tr>\n",
       "      <th>1</th>\n",
       "      <td>72649</td>\n",
       "      <td>52743</td>\n",
       "      <td>66104</td>\n",
       "      <td>54674</td>\n",
       "      <td>48090</td>\n",
       "      <td>33701</td>\n",
       "      <td>24634</td>\n",
       "      <td>17319</td>\n",
       "      <td>11806</td>\n",
       "      <td>8184</td>\n",
       "    </tr>\n",
       "    <tr>\n",
       "      <th>2</th>\n",
       "      <td>62620</td>\n",
       "      <td>40909</td>\n",
       "      <td>49026</td>\n",
       "      <td>39209</td>\n",
       "      <td>35376</td>\n",
       "      <td>24895</td>\n",
       "      <td>19197</td>\n",
       "      <td>14119</td>\n",
       "      <td>10403</td>\n",
       "      <td>7927</td>\n",
       "    </tr>\n",
       "    <tr>\n",
       "      <th>3</th>\n",
       "      <td>15055</td>\n",
       "      <td>7783</td>\n",
       "      <td>8316</td>\n",
       "      <td>4889</td>\n",
       "      <td>3837</td>\n",
       "      <td>2358</td>\n",
       "      <td>1623</td>\n",
       "      <td>1110</td>\n",
       "      <td>751</td>\n",
       "      <td>518</td>\n",
       "    </tr>\n",
       "    <tr>\n",
       "      <th>4</th>\n",
       "      <td>38954</td>\n",
       "      <td>19274</td>\n",
       "      <td>19353</td>\n",
       "      <td>10459</td>\n",
       "      <td>8131</td>\n",
       "      <td>4702</td>\n",
       "      <td>3096</td>\n",
       "      <td>2026</td>\n",
       "      <td>1343</td>\n",
       "      <td>907</td>\n",
       "    </tr>\n",
       "  </tbody>\n",
       "</table>\n",
       "</div>"
      ],
      "text/plain": [
       "    0-20  20-40  40-60  60-80  80-100  100-120  120-140  140-160  160-180  \\\n",
       "0  37195  26590  33541  27121   23985    16472    12157     8511     5902   \n",
       "1  72649  52743  66104  54674   48090    33701    24634    17319    11806   \n",
       "2  62620  40909  49026  39209   35376    24895    19197    14119    10403   \n",
       "3  15055   7783   8316   4889    3837     2358     1623     1110      751   \n",
       "4  38954  19274  19353  10459    8131     4702     3096     2026     1343   \n",
       "\n",
       "   180-200  \n",
       "0     4203  \n",
       "1     8184  \n",
       "2     7927  \n",
       "3      518  \n",
       "4      907  "
      ]
     },
     "execution_count": 67,
     "metadata": {},
     "output_type": "execute_result"
    }
   ],
   "source": [
    "#remove useless columns\n",
    "stat_istdaten.drop(['Unnamed: 0', 'index'],axis=1, inplace=True)\n",
    "stat_istdaten.head()"
   ]
  },
  {
   "cell_type": "code",
   "execution_count": 68,
   "id": "19218cb2-d825-4790-87cc-7bf33e22652b",
   "metadata": {},
   "outputs": [],
   "source": [
    "rows_sums = stat_istdaten.sum(axis=1)\n",
    "row_sum = rows_sums.tolist()"
   ]
  },
  {
   "cell_type": "code",
   "execution_count": 69,
   "id": "cf11c83a-9f92-42e3-a36e-f2f8e65d898e",
   "metadata": {},
   "outputs": [
    {
     "data": {
      "text/html": [
       "<div>\n",
       "<style scoped>\n",
       "    .dataframe tbody tr th:only-of-type {\n",
       "        vertical-align: middle;\n",
       "    }\n",
       "\n",
       "    .dataframe tbody tr th {\n",
       "        vertical-align: top;\n",
       "    }\n",
       "\n",
       "    .dataframe thead th {\n",
       "        text-align: right;\n",
       "    }\n",
       "</style>\n",
       "<table border=\"1\" class=\"dataframe\">\n",
       "  <thead>\n",
       "    <tr style=\"text-align: right;\">\n",
       "      <th></th>\n",
       "      <th>0-20</th>\n",
       "      <th>20-40</th>\n",
       "      <th>40-60</th>\n",
       "      <th>60-80</th>\n",
       "      <th>80-100</th>\n",
       "      <th>100-120</th>\n",
       "      <th>120-140</th>\n",
       "      <th>140-160</th>\n",
       "      <th>160-180</th>\n",
       "      <th>180-200</th>\n",
       "    </tr>\n",
       "  </thead>\n",
       "  <tbody>\n",
       "    <tr>\n",
       "      <th>0</th>\n",
       "      <td>37195</td>\n",
       "      <td>63785</td>\n",
       "      <td>97326</td>\n",
       "      <td>124447</td>\n",
       "      <td>148432</td>\n",
       "      <td>164904</td>\n",
       "      <td>177061</td>\n",
       "      <td>185572</td>\n",
       "      <td>191474</td>\n",
       "      <td>195677</td>\n",
       "    </tr>\n",
       "    <tr>\n",
       "      <th>1</th>\n",
       "      <td>72649</td>\n",
       "      <td>125392</td>\n",
       "      <td>191496</td>\n",
       "      <td>246170</td>\n",
       "      <td>294260</td>\n",
       "      <td>327961</td>\n",
       "      <td>352595</td>\n",
       "      <td>369914</td>\n",
       "      <td>381720</td>\n",
       "      <td>389904</td>\n",
       "    </tr>\n",
       "    <tr>\n",
       "      <th>2</th>\n",
       "      <td>62620</td>\n",
       "      <td>103529</td>\n",
       "      <td>152555</td>\n",
       "      <td>191764</td>\n",
       "      <td>227140</td>\n",
       "      <td>252035</td>\n",
       "      <td>271232</td>\n",
       "      <td>285351</td>\n",
       "      <td>295754</td>\n",
       "      <td>303681</td>\n",
       "    </tr>\n",
       "    <tr>\n",
       "      <th>3</th>\n",
       "      <td>15055</td>\n",
       "      <td>22838</td>\n",
       "      <td>31154</td>\n",
       "      <td>36043</td>\n",
       "      <td>39880</td>\n",
       "      <td>42238</td>\n",
       "      <td>43861</td>\n",
       "      <td>44971</td>\n",
       "      <td>45722</td>\n",
       "      <td>46240</td>\n",
       "    </tr>\n",
       "    <tr>\n",
       "      <th>4</th>\n",
       "      <td>38954</td>\n",
       "      <td>58228</td>\n",
       "      <td>77581</td>\n",
       "      <td>88040</td>\n",
       "      <td>96171</td>\n",
       "      <td>100873</td>\n",
       "      <td>103969</td>\n",
       "      <td>105995</td>\n",
       "      <td>107338</td>\n",
       "      <td>108245</td>\n",
       "    </tr>\n",
       "  </tbody>\n",
       "</table>\n",
       "</div>"
      ],
      "text/plain": [
       "    0-20   20-40   40-60   60-80  80-100  100-120  120-140  140-160  160-180  \\\n",
       "0  37195   63785   97326  124447  148432   164904   177061   185572   191474   \n",
       "1  72649  125392  191496  246170  294260   327961   352595   369914   381720   \n",
       "2  62620  103529  152555  191764  227140   252035   271232   285351   295754   \n",
       "3  15055   22838   31154   36043   39880    42238    43861    44971    45722   \n",
       "4  38954   58228   77581   88040   96171   100873   103969   105995   107338   \n",
       "\n",
       "   180-200  \n",
       "0   195677  \n",
       "1   389904  \n",
       "2   303681  \n",
       "3    46240  \n",
       "4   108245  "
      ]
     },
     "execution_count": 69,
     "metadata": {},
     "output_type": "execute_result"
    }
   ],
   "source": [
    "df_cum_sum = stat_istdaten.cumsum(axis=1)\n",
    "df_cum_sum.head()"
   ]
  },
  {
   "cell_type": "code",
   "execution_count": 70,
   "id": "362df64c-d579-494a-a946-790cb34e221e",
   "metadata": {},
   "outputs": [
    {
     "data": {
      "text/html": [
       "<div>\n",
       "<style scoped>\n",
       "    .dataframe tbody tr th:only-of-type {\n",
       "        vertical-align: middle;\n",
       "    }\n",
       "\n",
       "    .dataframe tbody tr th {\n",
       "        vertical-align: top;\n",
       "    }\n",
       "\n",
       "    .dataframe thead th {\n",
       "        text-align: right;\n",
       "    }\n",
       "</style>\n",
       "<table border=\"1\" class=\"dataframe\">\n",
       "  <thead>\n",
       "    <tr style=\"text-align: right;\">\n",
       "      <th></th>\n",
       "      <th>0-20</th>\n",
       "      <th>20-40</th>\n",
       "      <th>40-60</th>\n",
       "      <th>60-80</th>\n",
       "      <th>80-100</th>\n",
       "      <th>100-120</th>\n",
       "      <th>120-140</th>\n",
       "      <th>140-160</th>\n",
       "      <th>160-180</th>\n",
       "      <th>180-200</th>\n",
       "    </tr>\n",
       "  </thead>\n",
       "  <tbody>\n",
       "    <tr>\n",
       "      <th>0</th>\n",
       "      <td>0.190084</td>\n",
       "      <td>0.325971</td>\n",
       "      <td>0.497381</td>\n",
       "      <td>0.635982</td>\n",
       "      <td>0.758556</td>\n",
       "      <td>0.842736</td>\n",
       "      <td>0.904864</td>\n",
       "      <td>0.948359</td>\n",
       "      <td>0.978521</td>\n",
       "      <td>1.0</td>\n",
       "    </tr>\n",
       "    <tr>\n",
       "      <th>1</th>\n",
       "      <td>0.186325</td>\n",
       "      <td>0.321597</td>\n",
       "      <td>0.491136</td>\n",
       "      <td>0.631361</td>\n",
       "      <td>0.754699</td>\n",
       "      <td>0.841133</td>\n",
       "      <td>0.904312</td>\n",
       "      <td>0.948731</td>\n",
       "      <td>0.979010</td>\n",
       "      <td>1.0</td>\n",
       "    </tr>\n",
       "    <tr>\n",
       "      <th>2</th>\n",
       "      <td>0.206203</td>\n",
       "      <td>0.340914</td>\n",
       "      <td>0.502353</td>\n",
       "      <td>0.631465</td>\n",
       "      <td>0.747956</td>\n",
       "      <td>0.829933</td>\n",
       "      <td>0.893148</td>\n",
       "      <td>0.939641</td>\n",
       "      <td>0.973897</td>\n",
       "      <td>1.0</td>\n",
       "    </tr>\n",
       "    <tr>\n",
       "      <th>3</th>\n",
       "      <td>0.325584</td>\n",
       "      <td>0.493901</td>\n",
       "      <td>0.673746</td>\n",
       "      <td>0.779477</td>\n",
       "      <td>0.862457</td>\n",
       "      <td>0.913452</td>\n",
       "      <td>0.948551</td>\n",
       "      <td>0.972556</td>\n",
       "      <td>0.988798</td>\n",
       "      <td>1.0</td>\n",
       "    </tr>\n",
       "    <tr>\n",
       "      <th>4</th>\n",
       "      <td>0.359869</td>\n",
       "      <td>0.537928</td>\n",
       "      <td>0.716717</td>\n",
       "      <td>0.813340</td>\n",
       "      <td>0.888457</td>\n",
       "      <td>0.931895</td>\n",
       "      <td>0.960497</td>\n",
       "      <td>0.979214</td>\n",
       "      <td>0.991621</td>\n",
       "      <td>1.0</td>\n",
       "    </tr>\n",
       "  </tbody>\n",
       "</table>\n",
       "</div>"
      ],
      "text/plain": [
       "       0-20     20-40     40-60     60-80    80-100   100-120   120-140  \\\n",
       "0  0.190084  0.325971  0.497381  0.635982  0.758556  0.842736  0.904864   \n",
       "1  0.186325  0.321597  0.491136  0.631361  0.754699  0.841133  0.904312   \n",
       "2  0.206203  0.340914  0.502353  0.631465  0.747956  0.829933  0.893148   \n",
       "3  0.325584  0.493901  0.673746  0.779477  0.862457  0.913452  0.948551   \n",
       "4  0.359869  0.537928  0.716717  0.813340  0.888457  0.931895  0.960497   \n",
       "\n",
       "    140-160   160-180  180-200  \n",
       "0  0.948359  0.978521      1.0  \n",
       "1  0.948731  0.979010      1.0  \n",
       "2  0.939641  0.973897      1.0  \n",
       "3  0.972556  0.988798      1.0  \n",
       "4  0.979214  0.991621      1.0  "
      ]
     },
     "execution_count": 70,
     "metadata": {},
     "output_type": "execute_result"
    }
   ],
   "source": [
    "# compute the probability for each case\n",
    "istdaten_prob = df_cum_sum.divide(row_sum, axis='rows')\n",
    "istdaten_prob.head()"
   ]
  },
  {
   "cell_type": "code",
   "execution_count": 71,
   "id": "ae6dde8d-03f8-4484-994e-d3d4ee99c16d",
   "metadata": {},
   "outputs": [],
   "source": [
    "all_prob_ist = istdaten_prob.join(indexx)"
   ]
  },
  {
   "cell_type": "code",
   "execution_count": 76,
   "id": "0659a1f2-4e0e-416a-9f27-4595f378f532",
   "metadata": {},
   "outputs": [
    {
     "data": {
      "text/html": [
       "<div>\n",
       "<style scoped>\n",
       "    .dataframe tbody tr th:only-of-type {\n",
       "        vertical-align: middle;\n",
       "    }\n",
       "\n",
       "    .dataframe tbody tr th {\n",
       "        vertical-align: top;\n",
       "    }\n",
       "\n",
       "    .dataframe thead th {\n",
       "        text-align: right;\n",
       "    }\n",
       "</style>\n",
       "<table border=\"1\" class=\"dataframe\">\n",
       "  <thead>\n",
       "    <tr style=\"text-align: right;\">\n",
       "      <th></th>\n",
       "      <th>index</th>\n",
       "      <th>0-20</th>\n",
       "      <th>20-40</th>\n",
       "      <th>40-60</th>\n",
       "      <th>60-80</th>\n",
       "      <th>80-100</th>\n",
       "      <th>100-120</th>\n",
       "      <th>120-140</th>\n",
       "      <th>140-160</th>\n",
       "      <th>160-180</th>\n",
       "      <th>180-200</th>\n",
       "    </tr>\n",
       "  </thead>\n",
       "  <tbody>\n",
       "    <tr>\n",
       "      <th>0</th>\n",
       "      <td>Mon - bus 6h-9h</td>\n",
       "      <td>0.190084</td>\n",
       "      <td>0.325971</td>\n",
       "      <td>0.497381</td>\n",
       "      <td>0.635982</td>\n",
       "      <td>0.758556</td>\n",
       "      <td>0.842736</td>\n",
       "      <td>0.904864</td>\n",
       "      <td>0.948359</td>\n",
       "      <td>0.978521</td>\n",
       "      <td>1.0</td>\n",
       "    </tr>\n",
       "    <tr>\n",
       "      <th>1</th>\n",
       "      <td>Mon - bus 9h-16h</td>\n",
       "      <td>0.186325</td>\n",
       "      <td>0.321597</td>\n",
       "      <td>0.491136</td>\n",
       "      <td>0.631361</td>\n",
       "      <td>0.754699</td>\n",
       "      <td>0.841133</td>\n",
       "      <td>0.904312</td>\n",
       "      <td>0.948731</td>\n",
       "      <td>0.979010</td>\n",
       "      <td>1.0</td>\n",
       "    </tr>\n",
       "    <tr>\n",
       "      <th>2</th>\n",
       "      <td>Mon - bus 16-21h</td>\n",
       "      <td>0.206203</td>\n",
       "      <td>0.340914</td>\n",
       "      <td>0.502353</td>\n",
       "      <td>0.631465</td>\n",
       "      <td>0.747956</td>\n",
       "      <td>0.829933</td>\n",
       "      <td>0.893148</td>\n",
       "      <td>0.939641</td>\n",
       "      <td>0.973897</td>\n",
       "      <td>1.0</td>\n",
       "    </tr>\n",
       "    <tr>\n",
       "      <th>3</th>\n",
       "      <td>Mon - tram 6h-9h</td>\n",
       "      <td>0.325584</td>\n",
       "      <td>0.493901</td>\n",
       "      <td>0.673746</td>\n",
       "      <td>0.779477</td>\n",
       "      <td>0.862457</td>\n",
       "      <td>0.913452</td>\n",
       "      <td>0.948551</td>\n",
       "      <td>0.972556</td>\n",
       "      <td>0.988798</td>\n",
       "      <td>1.0</td>\n",
       "    </tr>\n",
       "    <tr>\n",
       "      <th>4</th>\n",
       "      <td>Mon - tram 9h-16h</td>\n",
       "      <td>0.359869</td>\n",
       "      <td>0.537928</td>\n",
       "      <td>0.716717</td>\n",
       "      <td>0.813340</td>\n",
       "      <td>0.888457</td>\n",
       "      <td>0.931895</td>\n",
       "      <td>0.960497</td>\n",
       "      <td>0.979214</td>\n",
       "      <td>0.991621</td>\n",
       "      <td>1.0</td>\n",
       "    </tr>\n",
       "  </tbody>\n",
       "</table>\n",
       "</div>"
      ],
      "text/plain": [
       "               index      0-20     20-40     40-60     60-80    80-100  \\\n",
       "0    Mon - bus 6h-9h  0.190084  0.325971  0.497381  0.635982  0.758556   \n",
       "1   Mon - bus 9h-16h  0.186325  0.321597  0.491136  0.631361  0.754699   \n",
       "2   Mon - bus 16-21h  0.206203  0.340914  0.502353  0.631465  0.747956   \n",
       "3   Mon - tram 6h-9h  0.325584  0.493901  0.673746  0.779477  0.862457   \n",
       "4  Mon - tram 9h-16h  0.359869  0.537928  0.716717  0.813340  0.888457   \n",
       "\n",
       "    100-120   120-140   140-160   160-180  180-200  \n",
       "0  0.842736  0.904864  0.948359  0.978521      1.0  \n",
       "1  0.841133  0.904312  0.948731  0.979010      1.0  \n",
       "2  0.829933  0.893148  0.939641  0.973897      1.0  \n",
       "3  0.913452  0.948551  0.972556  0.988798      1.0  \n",
       "4  0.931895  0.960497  0.979214  0.991621      1.0  "
      ]
     },
     "execution_count": 76,
     "metadata": {},
     "output_type": "execute_result"
    }
   ],
   "source": [
    "cols = list(all_prob_ist.columns)\n",
    "cols = [cols[-1]] + cols[:-1]\n",
    "prob = all_prob_ist[cols]\n",
    "prob.head()"
   ]
  },
  {
   "cell_type": "code",
   "execution_count": 73,
   "id": "93193cba-7487-4ca2-94fc-6616b6384964",
   "metadata": {},
   "outputs": [],
   "source": [
    "prob.to_csv('prob_istdaten.csv')"
   ]
  },
  {
   "cell_type": "code",
   "execution_count": null,
   "id": "c45f5be8-4434-48f4-bce0-0591bdfcb994",
   "metadata": {},
   "outputs": [],
   "source": []
  }
 ],
 "metadata": {
  "kernelspec": {
   "display_name": "Python 3 (ipykernel)",
   "language": "python",
   "name": "python3"
  },
  "language_info": {
   "codemirror_mode": {
    "name": "ipython",
    "version": 3
   },
   "file_extension": ".py",
   "mimetype": "text/x-python",
   "name": "python",
   "nbconvert_exporter": "python",
   "pygments_lexer": "ipython3",
   "version": "3.9.12"
  }
 },
 "nbformat": 4,
 "nbformat_minor": 5
}
