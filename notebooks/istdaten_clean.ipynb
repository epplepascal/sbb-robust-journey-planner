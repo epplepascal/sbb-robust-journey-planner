{
 "cells": [
  {
   "cell_type": "code",
   "execution_count": 1,
   "id": "51a3c963-2510-4b71-94b8-cf4f492179c6",
   "metadata": {},
   "outputs": [],
   "source": [
    "import os\n",
    "import warnings\n",
    "import pandas as pd\n",
    "import matplotlib.pyplot as plt\n",
    "import numpy as np\n",
    "\n",
    "warnings.simplefilter(action='ignore', category=UserWarning)"
   ]
  },
  {
   "cell_type": "code",
   "execution_count": 2,
   "id": "2e224d52-7c5f-426a-9f52-cf58875c562e",
   "metadata": {},
   "outputs": [
    {
     "name": "stdout",
     "output_type": "stream",
     "text": [
      "your username is lmarchan\n",
      "you are connected to iccluster044.iccluster.epfl.ch:10000\n"
     ]
    }
   ],
   "source": [
    "from pyhive import hive\n",
    "\n",
    "# Set python variables from environment variables\n",
    "username = os.environ['USERNAME']\n",
    "hive_host = os.environ['HIVE_SERVER2'].split(':')[0]\n",
    "hive_port = os.environ['HIVE_SERVER2'].split(':')[1]\n",
    "\n",
    "# create connection\n",
    "conn = hive.connect(\n",
    "    host=hive_host,\n",
    "    port=hive_port)\n",
    "\n",
    "# create cursor\n",
    "cur = conn.cursor()\n",
    "\n",
    "print(f\"your username is {username}\")\n",
    "print(f\"you are connected to {hive_host}:{hive_port}\")"
   ]
  },
  {
   "cell_type": "code",
   "execution_count": 3,
   "id": "641a5012-28fb-4062-a07c-beb348afb674",
   "metadata": {},
   "outputs": [],
   "source": [
    "query = f'CREATE DATABASE IF NOT EXISTS {username}'\n",
    "cur.execute(query)"
   ]
  },
  {
   "cell_type": "code",
   "execution_count": 4,
   "id": "8016d652-1ff4-491f-9ff6-7b036a12dfb3",
   "metadata": {},
   "outputs": [],
   "source": [
    "query = f\"USE {username}\"\n",
    "cur.execute(query)"
   ]
  },
  {
   "cell_type": "code",
   "execution_count": 5,
   "id": "5439dcec-9e3d-4cbc-bfb0-5a507d150e0b",
   "metadata": {},
   "outputs": [],
   "source": [
    "df = pd.read_sql(f'SELECT * FROM {username}.sbb_orc_istdaten_new LIMIT 200', conn)"
   ]
  },
  {
   "cell_type": "code",
   "execution_count": 6,
   "id": "f7891dcc-a319-43fd-a8ee-aa94ece71760",
   "metadata": {},
   "outputs": [
    {
     "data": {
      "text/plain": [
       "Index(['sbb_orc_istdaten_new.betriebstag',\n",
       "       'sbb_orc_istdaten_new.fahrt_bezeichner',\n",
       "       'sbb_orc_istdaten_new.betreiber_id',\n",
       "       'sbb_orc_istdaten_new.betreiber_abk',\n",
       "       'sbb_orc_istdaten_new.betreiber_name',\n",
       "       'sbb_orc_istdaten_new.produkt_id', 'sbb_orc_istdaten_new.linien_id',\n",
       "       'sbb_orc_istdaten_new.linien_text', 'sbb_orc_istdaten_new.umlauf_id',\n",
       "       'sbb_orc_istdaten_new.verkehrsmittel_text',\n",
       "       'sbb_orc_istdaten_new.zusatzfahrt_tf',\n",
       "       'sbb_orc_istdaten_new.faellt_aus_tf', 'sbb_orc_istdaten_new.bpuic',\n",
       "       'sbb_orc_istdaten_new.haltestellen_name',\n",
       "       'sbb_orc_istdaten_new.ankunftszeit', 'sbb_orc_istdaten_new.an_prognose',\n",
       "       'sbb_orc_istdaten_new.an_prognose_status',\n",
       "       'sbb_orc_istdaten_new.abfahrtszeit', 'sbb_orc_istdaten_new.ab_prognose',\n",
       "       'sbb_orc_istdaten_new.ab_prognose_status',\n",
       "       'sbb_orc_istdaten_new.durchfahrt_tf', 'sbb_orc_istdaten_new.year',\n",
       "       'sbb_orc_istdaten_new.month'],\n",
       "      dtype='object')"
      ]
     },
     "execution_count": 6,
     "metadata": {},
     "output_type": "execute_result"
    }
   ],
   "source": [
    "df.columns"
   ]
  },
  {
   "cell_type": "code",
   "execution_count": 7,
   "id": "5f4adc85-ec12-4303-89b9-a7d70cd50020",
   "metadata": {},
   "outputs": [
    {
     "data": {
      "text/html": [
       "<div>\n",
       "<style scoped>\n",
       "    .dataframe tbody tr th:only-of-type {\n",
       "        vertical-align: middle;\n",
       "    }\n",
       "\n",
       "    .dataframe tbody tr th {\n",
       "        vertical-align: top;\n",
       "    }\n",
       "\n",
       "    .dataframe thead th {\n",
       "        text-align: right;\n",
       "    }\n",
       "</style>\n",
       "<table border=\"1\" class=\"dataframe\">\n",
       "  <thead>\n",
       "    <tr style=\"text-align: right;\">\n",
       "      <th></th>\n",
       "      <th>sbb_orc_istdaten_new.betriebstag</th>\n",
       "      <th>sbb_orc_istdaten_new.fahrt_bezeichner</th>\n",
       "      <th>sbb_orc_istdaten_new.betreiber_id</th>\n",
       "      <th>sbb_orc_istdaten_new.betreiber_abk</th>\n",
       "      <th>sbb_orc_istdaten_new.betreiber_name</th>\n",
       "      <th>sbb_orc_istdaten_new.produkt_id</th>\n",
       "      <th>sbb_orc_istdaten_new.linien_id</th>\n",
       "      <th>sbb_orc_istdaten_new.linien_text</th>\n",
       "      <th>sbb_orc_istdaten_new.umlauf_id</th>\n",
       "      <th>sbb_orc_istdaten_new.verkehrsmittel_text</th>\n",
       "      <th>...</th>\n",
       "      <th>sbb_orc_istdaten_new.haltestellen_name</th>\n",
       "      <th>sbb_orc_istdaten_new.ankunftszeit</th>\n",
       "      <th>sbb_orc_istdaten_new.an_prognose</th>\n",
       "      <th>sbb_orc_istdaten_new.an_prognose_status</th>\n",
       "      <th>sbb_orc_istdaten_new.abfahrtszeit</th>\n",
       "      <th>sbb_orc_istdaten_new.ab_prognose</th>\n",
       "      <th>sbb_orc_istdaten_new.ab_prognose_status</th>\n",
       "      <th>sbb_orc_istdaten_new.durchfahrt_tf</th>\n",
       "      <th>sbb_orc_istdaten_new.year</th>\n",
       "      <th>sbb_orc_istdaten_new.month</th>\n",
       "    </tr>\n",
       "  </thead>\n",
       "  <tbody>\n",
       "    <tr>\n",
       "      <th>0</th>\n",
       "      <td>28.12.2022</td>\n",
       "      <td>85:882:106378-18101-1</td>\n",
       "      <td>85:882</td>\n",
       "      <td>SBW</td>\n",
       "      <td>Stadtbus Winterthur</td>\n",
       "      <td>Bus</td>\n",
       "      <td>85:882:101</td>\n",
       "      <td>1</td>\n",
       "      <td>1300107</td>\n",
       "      <td>B</td>\n",
       "      <td>...</td>\n",
       "      <td>Winterthur, Oberwinterthur</td>\n",
       "      <td></td>\n",
       "      <td></td>\n",
       "      <td></td>\n",
       "      <td>28.12.2022 05:54</td>\n",
       "      <td>28.12.2022 05:55:48</td>\n",
       "      <td>REAL</td>\n",
       "      <td>false</td>\n",
       "      <td>2022</td>\n",
       "      <td>12</td>\n",
       "    </tr>\n",
       "    <tr>\n",
       "      <th>1</th>\n",
       "      <td>28.12.2022</td>\n",
       "      <td>85:882:106378-18101-1</td>\n",
       "      <td>85:882</td>\n",
       "      <td>SBW</td>\n",
       "      <td>Stadtbus Winterthur</td>\n",
       "      <td>Bus</td>\n",
       "      <td>85:882:101</td>\n",
       "      <td>1</td>\n",
       "      <td>1300107</td>\n",
       "      <td>B</td>\n",
       "      <td>...</td>\n",
       "      <td>Winterthur, Obstgartenweg</td>\n",
       "      <td>28.12.2022 05:55</td>\n",
       "      <td>28.12.2022 05:56:11</td>\n",
       "      <td>REAL</td>\n",
       "      <td>28.12.2022 05:55</td>\n",
       "      <td>28.12.2022 05:56:11</td>\n",
       "      <td>REAL</td>\n",
       "      <td>false</td>\n",
       "      <td>2022</td>\n",
       "      <td>12</td>\n",
       "    </tr>\n",
       "    <tr>\n",
       "      <th>2</th>\n",
       "      <td>28.12.2022</td>\n",
       "      <td>85:882:106378-18101-1</td>\n",
       "      <td>85:882</td>\n",
       "      <td>SBW</td>\n",
       "      <td>Stadtbus Winterthur</td>\n",
       "      <td>Bus</td>\n",
       "      <td>85:882:101</td>\n",
       "      <td>1</td>\n",
       "      <td>1300107</td>\n",
       "      <td>B</td>\n",
       "      <td>...</td>\n",
       "      <td>Winterthur, Zinzikon</td>\n",
       "      <td>28.12.2022 05:55</td>\n",
       "      <td>28.12.2022 05:56:51</td>\n",
       "      <td>REAL</td>\n",
       "      <td>28.12.2022 05:56</td>\n",
       "      <td>28.12.2022 05:56:59</td>\n",
       "      <td>REAL</td>\n",
       "      <td>false</td>\n",
       "      <td>2022</td>\n",
       "      <td>12</td>\n",
       "    </tr>\n",
       "    <tr>\n",
       "      <th>3</th>\n",
       "      <td>28.12.2022</td>\n",
       "      <td>85:882:106378-18101-1</td>\n",
       "      <td>85:882</td>\n",
       "      <td>SBW</td>\n",
       "      <td>Stadtbus Winterthur</td>\n",
       "      <td>Bus</td>\n",
       "      <td>85:882:101</td>\n",
       "      <td>1</td>\n",
       "      <td>1300107</td>\n",
       "      <td>B</td>\n",
       "      <td>...</td>\n",
       "      <td>Winterthur, Guggenbühl</td>\n",
       "      <td>28.12.2022 05:56</td>\n",
       "      <td>28.12.2022 05:57:39</td>\n",
       "      <td>REAL</td>\n",
       "      <td>28.12.2022 05:56</td>\n",
       "      <td>28.12.2022 05:57:59</td>\n",
       "      <td>REAL</td>\n",
       "      <td>false</td>\n",
       "      <td>2022</td>\n",
       "      <td>12</td>\n",
       "    </tr>\n",
       "    <tr>\n",
       "      <th>4</th>\n",
       "      <td>28.12.2022</td>\n",
       "      <td>85:882:106378-18101-1</td>\n",
       "      <td>85:882</td>\n",
       "      <td>SBW</td>\n",
       "      <td>Stadtbus Winterthur</td>\n",
       "      <td>Bus</td>\n",
       "      <td>85:882:101</td>\n",
       "      <td>1</td>\n",
       "      <td>1300107</td>\n",
       "      <td>B</td>\n",
       "      <td>...</td>\n",
       "      <td>Winterthur, Römertor</td>\n",
       "      <td>28.12.2022 05:57</td>\n",
       "      <td>28.12.2022 05:58:39</td>\n",
       "      <td>REAL</td>\n",
       "      <td>28.12.2022 05:57</td>\n",
       "      <td>28.12.2022 05:58:39</td>\n",
       "      <td>REAL</td>\n",
       "      <td>false</td>\n",
       "      <td>2022</td>\n",
       "      <td>12</td>\n",
       "    </tr>\n",
       "  </tbody>\n",
       "</table>\n",
       "<p>5 rows × 23 columns</p>\n",
       "</div>"
      ],
      "text/plain": [
       "  sbb_orc_istdaten_new.betriebstag sbb_orc_istdaten_new.fahrt_bezeichner  \\\n",
       "0                       28.12.2022                 85:882:106378-18101-1   \n",
       "1                       28.12.2022                 85:882:106378-18101-1   \n",
       "2                       28.12.2022                 85:882:106378-18101-1   \n",
       "3                       28.12.2022                 85:882:106378-18101-1   \n",
       "4                       28.12.2022                 85:882:106378-18101-1   \n",
       "\n",
       "  sbb_orc_istdaten_new.betreiber_id sbb_orc_istdaten_new.betreiber_abk  \\\n",
       "0                            85:882                                SBW   \n",
       "1                            85:882                                SBW   \n",
       "2                            85:882                                SBW   \n",
       "3                            85:882                                SBW   \n",
       "4                            85:882                                SBW   \n",
       "\n",
       "  sbb_orc_istdaten_new.betreiber_name sbb_orc_istdaten_new.produkt_id  \\\n",
       "0                 Stadtbus Winterthur                             Bus   \n",
       "1                 Stadtbus Winterthur                             Bus   \n",
       "2                 Stadtbus Winterthur                             Bus   \n",
       "3                 Stadtbus Winterthur                             Bus   \n",
       "4                 Stadtbus Winterthur                             Bus   \n",
       "\n",
       "  sbb_orc_istdaten_new.linien_id sbb_orc_istdaten_new.linien_text  \\\n",
       "0                     85:882:101                                1   \n",
       "1                     85:882:101                                1   \n",
       "2                     85:882:101                                1   \n",
       "3                     85:882:101                                1   \n",
       "4                     85:882:101                                1   \n",
       "\n",
       "  sbb_orc_istdaten_new.umlauf_id sbb_orc_istdaten_new.verkehrsmittel_text  \\\n",
       "0                        1300107                                        B   \n",
       "1                        1300107                                        B   \n",
       "2                        1300107                                        B   \n",
       "3                        1300107                                        B   \n",
       "4                        1300107                                        B   \n",
       "\n",
       "   ... sbb_orc_istdaten_new.haltestellen_name  \\\n",
       "0  ...             Winterthur, Oberwinterthur   \n",
       "1  ...              Winterthur, Obstgartenweg   \n",
       "2  ...                   Winterthur, Zinzikon   \n",
       "3  ...                 Winterthur, Guggenbühl   \n",
       "4  ...                   Winterthur, Römertor   \n",
       "\n",
       "  sbb_orc_istdaten_new.ankunftszeit sbb_orc_istdaten_new.an_prognose  \\\n",
       "0                                                                      \n",
       "1                  28.12.2022 05:55              28.12.2022 05:56:11   \n",
       "2                  28.12.2022 05:55              28.12.2022 05:56:51   \n",
       "3                  28.12.2022 05:56              28.12.2022 05:57:39   \n",
       "4                  28.12.2022 05:57              28.12.2022 05:58:39   \n",
       "\n",
       "  sbb_orc_istdaten_new.an_prognose_status sbb_orc_istdaten_new.abfahrtszeit  \\\n",
       "0                                                          28.12.2022 05:54   \n",
       "1                                    REAL                  28.12.2022 05:55   \n",
       "2                                    REAL                  28.12.2022 05:56   \n",
       "3                                    REAL                  28.12.2022 05:56   \n",
       "4                                    REAL                  28.12.2022 05:57   \n",
       "\n",
       "  sbb_orc_istdaten_new.ab_prognose sbb_orc_istdaten_new.ab_prognose_status  \\\n",
       "0              28.12.2022 05:55:48                                    REAL   \n",
       "1              28.12.2022 05:56:11                                    REAL   \n",
       "2              28.12.2022 05:56:59                                    REAL   \n",
       "3              28.12.2022 05:57:59                                    REAL   \n",
       "4              28.12.2022 05:58:39                                    REAL   \n",
       "\n",
       "  sbb_orc_istdaten_new.durchfahrt_tf sbb_orc_istdaten_new.year  \\\n",
       "0                              false                      2022   \n",
       "1                              false                      2022   \n",
       "2                              false                      2022   \n",
       "3                              false                      2022   \n",
       "4                              false                      2022   \n",
       "\n",
       "  sbb_orc_istdaten_new.month  \n",
       "0                         12  \n",
       "1                         12  \n",
       "2                         12  \n",
       "3                         12  \n",
       "4                         12  \n",
       "\n",
       "[5 rows x 23 columns]"
      ]
     },
     "execution_count": 7,
     "metadata": {},
     "output_type": "execute_result"
    }
   ],
   "source": [
    "df.head()"
   ]
  },
  {
   "cell_type": "code",
   "execution_count": 9,
   "id": "5cab9271-44a5-478c-bb12-641e02471160",
   "metadata": {},
   "outputs": [
    {
     "name": "stdout",
     "output_type": "stream",
     "text": [
      "Cleaning up livy sessions on exit is enabled\n"
     ]
    }
   ],
   "source": [
    "%load_ext sparkmagic.magics"
   ]
  },
  {
   "cell_type": "code",
   "execution_count": 10,
   "id": "ab8571ba-4a13-4d9e-90ec-3fdbca33431e",
   "metadata": {},
   "outputs": [],
   "source": [
    "from IPython import get_ipython\n",
    "username = os.environ['RENKU_USERNAME']\n",
    "server = \"http://iccluster044.iccluster.epfl.ch:8998\"\n",
    "\n",
    "# set the application name as \"<your_gaspar_id>-homework3\"\n",
    "get_ipython().run_cell_magic(\n",
    "    'spark',\n",
    "    line='config', \n",
    "    cell=\"\"\"{{ \"name\": \"{0}-final-project2\", \"executorMemory\": \"4G\", \"executorCores\": 4, \"numExecutors\": 10, \"driverMemory\": \"4G\" }}\"\"\".format(username)\n",
    ")"
   ]
  },
  {
   "cell_type": "code",
   "execution_count": 11,
   "id": "0f2f0c86-2dfe-432a-8608-f6e3e0b8e5fe",
   "metadata": {},
   "outputs": [
    {
     "name": "stdout",
     "output_type": "stream",
     "text": [
      "Starting Spark application\n"
     ]
    },
    {
     "data": {
      "text/html": [
       "<table>\n",
       "<tr><th>ID</th><th>YARN Application ID</th><th>Kind</th><th>State</th><th>Spark UI</th><th>Driver log</th><th>User</th><th>Current session?</th></tr><tr><td>6138</td><td>application_1680948035106_5611</td><td>pyspark</td><td>idle</td><td><a target=\"_blank\" href=\"http://iccluster044.iccluster.epfl.ch:8088/proxy/application_1680948035106_5611/\">Link</a></td><td><a target=\"_blank\" href=\"http://iccluster055.iccluster.epfl.ch:8042/node/containerlogs/container_e01_1680948035106_5611_01_000001/ebouille\">Link</a></td><td>None</td><td>✔</td></tr></table>"
      ],
      "text/plain": [
       "<IPython.core.display.HTML object>"
      ]
     },
     "metadata": {},
     "output_type": "display_data"
    },
    {
     "data": {
      "application/vnd.jupyter.widget-view+json": {
       "model_id": "",
       "version_major": 2,
       "version_minor": 0
      },
      "text/plain": [
       "FloatProgress(value=0.0, bar_style='info', description='Progress:', layout=Layout(height='25px', width='50%'),…"
      ]
     },
     "metadata": {},
     "output_type": "display_data"
    },
    {
     "name": "stdout",
     "output_type": "stream",
     "text": [
      "SparkSession available as 'spark'.\n"
     ]
    }
   ],
   "source": [
    "get_ipython().run_line_magic(\n",
    "    \"spark\", f\"\"\"add -s {username}-final-project2 -l python -u {server} -k\"\"\"\n",
    ")"
   ]
  },
  {
   "cell_type": "code",
   "execution_count": 13,
   "id": "c866fbd4-d4e9-469f-af30-93d62ef9e78c",
   "metadata": {},
   "outputs": [
    {
     "data": {
      "application/vnd.jupyter.widget-view+json": {
       "model_id": "",
       "version_major": 2,
       "version_minor": 0
      },
      "text/plain": [
       "FloatProgress(value=0.0, bar_style='info', description='Progress:', layout=Layout(height='25px', width='50%'),…"
      ]
     },
     "metadata": {},
     "output_type": "display_data"
    },
    {
     "name": "stdout",
     "output_type": "stream",
     "text": [
      "883241383"
     ]
    }
   ],
   "source": [
    "%%spark\n",
    "df_valid = spark.read.orc(f\"/user/epple/hive/sbb_orc_istdaten_new\")\n",
    "df_valid.count()"
   ]
  },
  {
   "cell_type": "code",
   "execution_count": 14,
   "id": "195edac0-5cb1-48c0-af38-8147064506aa",
   "metadata": {},
   "outputs": [
    {
     "data": {
      "application/vnd.jupyter.widget-view+json": {
       "model_id": "",
       "version_major": 2,
       "version_minor": 0
      },
      "text/plain": [
       "FloatProgress(value=0.0, bar_style='info', description='Progress:', layout=Layout(height='25px', width='50%'),…"
      ]
     },
     "metadata": {},
     "output_type": "display_data"
    },
    {
     "name": "stdout",
     "output_type": "stream",
     "text": [
      "8837471"
     ]
    }
   ],
   "source": [
    "%%spark\n",
    "df = df_valid.sample(0.01)  #we work on a sample of 1% of istdaten randomly chosen\n",
    "df.count()"
   ]
  },
  {
   "cell_type": "code",
   "execution_count": 16,
   "id": "6f66b2c5-bfec-42a7-8a9a-f12ad2f567e1",
   "metadata": {},
   "outputs": [
    {
     "data": {
      "application/vnd.jupyter.widget-view+json": {
       "model_id": "",
       "version_major": 2,
       "version_minor": 0
      },
      "text/plain": [
       "FloatProgress(value=0.0, bar_style='info', description='Progress:', layout=Layout(height='25px', width='50%'),…"
      ]
     },
     "metadata": {},
     "output_type": "display_data"
    }
   ],
   "source": [
    "%%spark\n",
    "import pyspark.sql.functions as F\n",
    "from pyspark.sql import DataFrameStatFunctions\n",
    "import pandas as pd\n",
    "from pyspark.sql.functions import col, lower, to_timestamp, date_format, avg, hour"
   ]
  },
  {
   "cell_type": "code",
   "execution_count": 17,
   "id": "0ff181bf-6dd9-443c-bc41-a360fa7429d8",
   "metadata": {},
   "outputs": [
    {
     "data": {
      "application/vnd.jupyter.widget-view+json": {
       "model_id": "",
       "version_major": 2,
       "version_minor": 0
      },
      "text/plain": [
       "FloatProgress(value=0.0, bar_style='info', description='Progress:', layout=Layout(height='25px', width='50%'),…"
      ]
     },
     "metadata": {},
     "output_type": "display_data"
    }
   ],
   "source": [
    "%%spark\n",
    "df_delays = df.select('*', (F.unix_timestamp(F.to_timestamp(df.an_prognose, format ='dd.MM.yyyy HH:mm:ss')) - F.unix_timestamp(F.to_timestamp(df.ankunftszeit,format ='dd.MM.yyyy HH:mm'))).alias('delay'))\n"
   ]
  },
  {
   "cell_type": "code",
   "execution_count": 18,
   "id": "903ac261-ac8a-45c8-a63a-004b28e23f0c",
   "metadata": {},
   "outputs": [
    {
     "data": {
      "application/vnd.jupyter.widget-view+json": {
       "model_id": "",
       "version_major": 2,
       "version_minor": 0
      },
      "text/plain": [
       "FloatProgress(value=0.0, bar_style='info', description='Progress:', layout=Layout(height='25px', width='50%'),…"
      ]
     },
     "metadata": {},
     "output_type": "display_data"
    },
    {
     "name": "stdout",
     "output_type": "stream",
     "text": [
      "+----------------+----------+-----------------+----------------+-------------------+-----+\n",
      "|fahrt_bezeichner|produkt_id|haltestellen_name|    ankunftszeit|        an_prognose|delay|\n",
      "+----------------+----------+-----------------+----------------+-------------------+-----+\n",
      "| 85:11:18220:003|       Zug|      Zürich Enge|11.09.2018 06:06|11.09.2018 06:05:38|  -22|\n",
      "| 85:11:18220:003|       Zug|        Zürich HB|11.09.2018 06:12|11.09.2018 06:11:14|  -46|\n",
      "| 85:11:18232:002|       Zug|        Altendorf|11.09.2018 08:32|11.09.2018 08:33:07|   67|\n",
      "| 85:11:18248:002|       Zug|           Horgen|11.09.2018 12:53|11.09.2018 12:53:08|    8|\n",
      "| 85:11:18248:002|       Zug|      Zürich Enge|11.09.2018 13:06|11.09.2018 13:05:23|  -37|\n",
      "| 85:11:18256:002|       Zug|           Horgen|11.09.2018 14:53|11.09.2018 14:53:14|   14|\n",
      "| 85:11:18257:001|       Zug|      Zürich Enge|11.09.2018 15:22|11.09.2018 15:22:09|    9|\n",
      "| 85:11:18257:001|       Zug|        Altendorf|11.09.2018 15:54|11.09.2018 15:54:03|    3|\n",
      "| 85:11:18265:001|       Zug| Zürich Flughafen|                |                   | null|\n",
      "| 85:11:18274:001|       Zug|  Zürich Wiedikon|11.09.2018 19:37|11.09.2018 19:37:35|   35|\n",
      "+----------------+----------+-----------------+----------------+-------------------+-----+\n",
      "only showing top 10 rows"
     ]
    }
   ],
   "source": [
    "%%spark\n",
    "ls = ['fahrt_bezeichner','produkt_id', 'haltestellen_name', 'ankunftszeit', 'an_prognose', 'delay']\n",
    "df_delays_filter = df_delays.select(ls)\n",
    "df_delays_filter.show(10) "
   ]
  },
  {
   "cell_type": "code",
   "execution_count": 19,
   "id": "7e6b969c-8bde-46fa-9e34-4cb86504feb1",
   "metadata": {},
   "outputs": [
    {
     "data": {
      "application/vnd.jupyter.widget-view+json": {
       "model_id": "",
       "version_major": 2,
       "version_minor": 0
      },
      "text/plain": [
       "FloatProgress(value=0.0, bar_style='info', description='Progress:', layout=Layout(height='25px', width='50%'),…"
      ]
     },
     "metadata": {},
     "output_type": "display_data"
    },
    {
     "name": "stdout",
     "output_type": "stream",
     "text": [
      "+-------------+\n",
      "|   produkt_id|\n",
      "+-------------+\n",
      "|          BUS|\n",
      "|Standseilbahn|\n",
      "|         Tram|\n",
      "|          Zug|\n",
      "|          Bus|\n",
      "|             |\n",
      "+-------------+"
     ]
    }
   ],
   "source": [
    "%%spark\n",
    "df_delays_filter.select('produkt_id').distinct().show()"
   ]
  },
  {
   "cell_type": "code",
   "execution_count": 20,
   "id": "0222c1bb-3ceb-423d-9581-654a41257b86",
   "metadata": {},
   "outputs": [
    {
     "data": {
      "application/vnd.jupyter.widget-view+json": {
       "model_id": "",
       "version_major": 2,
       "version_minor": 0
      },
      "text/plain": [
       "FloatProgress(value=0.0, bar_style='info', description='Progress:', layout=Layout(height='25px', width='50%'),…"
      ]
     },
     "metadata": {},
     "output_type": "display_data"
    },
    {
     "name": "stdout",
     "output_type": "stream",
     "text": [
      "+----------------+----------+-----------------+----------------+-------------------+-----+--------------+\n",
      "|fahrt_bezeichner|produkt_id|haltestellen_name|    ankunftszeit|        an_prognose|delay|positive_delay|\n",
      "+----------------+----------+-----------------+----------------+-------------------+-----+--------------+\n",
      "| 85:11:18220:003|       Zug|      Zürich Enge|11.09.2018 06:06|11.09.2018 06:05:38|  -22|             0|\n",
      "| 85:11:18220:003|       Zug|        Zürich HB|11.09.2018 06:12|11.09.2018 06:11:14|  -46|             0|\n",
      "| 85:11:18232:002|       Zug|        Altendorf|11.09.2018 08:32|11.09.2018 08:33:07|   67|            67|\n",
      "| 85:11:18248:002|       Zug|           Horgen|11.09.2018 12:53|11.09.2018 12:53:08|    8|             8|\n",
      "| 85:11:18248:002|       Zug|      Zürich Enge|11.09.2018 13:06|11.09.2018 13:05:23|  -37|             0|\n",
      "| 85:11:18256:002|       Zug|           Horgen|11.09.2018 14:53|11.09.2018 14:53:14|   14|            14|\n",
      "| 85:11:18257:001|       Zug|      Zürich Enge|11.09.2018 15:22|11.09.2018 15:22:09|    9|             9|\n",
      "| 85:11:18257:001|       Zug|        Altendorf|11.09.2018 15:54|11.09.2018 15:54:03|    3|             3|\n",
      "| 85:11:18265:001|       Zug| Zürich Flughafen|                |                   | null|             0|\n",
      "| 85:11:18274:001|       Zug|  Zürich Wiedikon|11.09.2018 19:37|11.09.2018 19:37:35|   35|            35|\n",
      "+----------------+----------+-----------------+----------------+-------------------+-----+--------------+\n",
      "only showing top 10 rows"
     ]
    }
   ],
   "source": [
    "%%spark\n",
    "df_delays_filter = df_delays_filter.withColumn(\"positive_delay\", F.when(df_delays.delay > 0, df_delays.delay).otherwise(0))\n",
    "df_delays_filter.show(10)"
   ]
  },
  {
   "cell_type": "code",
   "execution_count": 22,
   "id": "16da4586-6afd-4e7f-b6ac-b88a4159ab78",
   "metadata": {},
   "outputs": [
    {
     "data": {
      "application/vnd.jupyter.widget-view+json": {
       "model_id": "",
       "version_major": 2,
       "version_minor": 0
      },
      "text/plain": [
       "FloatProgress(value=0.0, bar_style='info', description='Progress:', layout=Layout(height='25px', width='50%'),…"
      ]
     },
     "metadata": {},
     "output_type": "display_data"
    },
    {
     "name": "stdout",
     "output_type": "stream",
     "text": [
      "+----------------+----------+-----------------+----------------+-------------------+-----+--------------+\n",
      "|fahrt_bezeichner|produkt_id|haltestellen_name|    ankunftszeit|        an_prognose|delay|positive_delay|\n",
      "+----------------+----------+-----------------+----------------+-------------------+-----+--------------+\n",
      "| 85:11:18220:003|       zug|      Zürich Enge|11.09.2018 06:06|11.09.2018 06:05:38|  -22|             0|\n",
      "| 85:11:18220:003|       zug|        Zürich HB|11.09.2018 06:12|11.09.2018 06:11:14|  -46|             0|\n",
      "| 85:11:18232:002|       zug|        Altendorf|11.09.2018 08:32|11.09.2018 08:33:07|   67|            67|\n",
      "| 85:11:18248:002|       zug|           Horgen|11.09.2018 12:53|11.09.2018 12:53:08|    8|             8|\n",
      "| 85:11:18248:002|       zug|      Zürich Enge|11.09.2018 13:06|11.09.2018 13:05:23|  -37|             0|\n",
      "+----------------+----------+-----------------+----------------+-------------------+-----+--------------+\n",
      "only showing top 5 rows"
     ]
    }
   ],
   "source": [
    "%%spark\n",
    "df_delays_filter = df_delays_filter.withColumn('produkt_id', lower(col('produkt_id')));\n",
    "df_delays_filter.show(5)"
   ]
  },
  {
   "cell_type": "code",
   "execution_count": 23,
   "id": "dc2a61b6-8db8-48b9-a334-ca088885b937",
   "metadata": {},
   "outputs": [
    {
     "data": {
      "application/vnd.jupyter.widget-view+json": {
       "model_id": "",
       "version_major": 2,
       "version_minor": 0
      },
      "text/plain": [
       "FloatProgress(value=0.0, bar_style='info', description='Progress:', layout=Layout(height='25px', width='50%'),…"
      ]
     },
     "metadata": {},
     "output_type": "display_data"
    },
    {
     "name": "stdout",
     "output_type": "stream",
     "text": [
      "+----------------+----------+-----------------+----------------+-------------------+-----+--------------+\n",
      "|fahrt_bezeichner|produkt_id|haltestellen_name|    ankunftszeit|        an_prognose|delay|positive_delay|\n",
      "+----------------+----------+-----------------+----------------+-------------------+-----+--------------+\n",
      "| 85:11:18220:003|       zug|      Zürich Enge|11.09.2018 06:06|11.09.2018 06:05:38|  -22|             0|\n",
      "| 85:11:18220:003|       zug|        Zürich HB|11.09.2018 06:12|11.09.2018 06:11:14|  -46|             0|\n",
      "| 85:11:18232:002|       zug|        Altendorf|11.09.2018 08:32|11.09.2018 08:33:07|   67|            67|\n",
      "| 85:11:18248:002|       zug|           Horgen|11.09.2018 12:53|11.09.2018 12:53:08|    8|             8|\n",
      "| 85:11:18248:002|       zug|      Zürich Enge|11.09.2018 13:06|11.09.2018 13:05:23|  -37|             0|\n",
      "+----------------+----------+-----------------+----------------+-------------------+-----+--------------+\n",
      "only showing top 5 rows"
     ]
    }
   ],
   "source": [
    "%%spark\n",
    "df_delays_filter = df_delays_filter.filter(col(\"delay\").isNotNull())\n",
    "df_delays_filter.show(5)"
   ]
  },
  {
   "cell_type": "code",
   "execution_count": 24,
   "id": "5abc0764-e4f5-4e58-9474-f50ce576f1fa",
   "metadata": {},
   "outputs": [
    {
     "data": {
      "application/vnd.jupyter.widget-view+json": {
       "model_id": "",
       "version_major": 2,
       "version_minor": 0
      },
      "text/plain": [
       "FloatProgress(value=0.0, bar_style='info', description='Progress:', layout=Layout(height='25px', width='50%'),…"
      ]
     },
     "metadata": {},
     "output_type": "display_data"
    },
    {
     "name": "stdout",
     "output_type": "stream",
     "text": [
      "+-------------+\n",
      "|   produkt_id|\n",
      "+-------------+\n",
      "|          bus|\n",
      "|          zug|\n",
      "|         tram|\n",
      "|standseilbahn|\n",
      "|             |\n",
      "+-------------+"
     ]
    }
   ],
   "source": [
    "%%spark\n",
    "df_delays_filter.select('produkt_id').distinct().show()"
   ]
  },
  {
   "cell_type": "code",
   "execution_count": 25,
   "id": "fbe78519-25ad-42db-9c1c-6ca903195b5b",
   "metadata": {},
   "outputs": [
    {
     "data": {
      "application/vnd.jupyter.widget-view+json": {
       "model_id": "",
       "version_major": 2,
       "version_minor": 0
      },
      "text/plain": [
       "FloatProgress(value=0.0, bar_style='info', description='Progress:', layout=Layout(height='25px', width='50%'),…"
      ]
     },
     "metadata": {},
     "output_type": "display_data"
    },
    {
     "name": "stdout",
     "output_type": "stream",
     "text": [
      "+----------------+----------+-----------------+----------------+-------------------+-----+--------------+------------+\n",
      "|fahrt_bezeichner|produkt_id|haltestellen_name|    ankunftszeit|        an_prognose|delay|positive_delay|week_day_abb|\n",
      "+----------------+----------+-----------------+----------------+-------------------+-----+--------------+------------+\n",
      "| 85:11:18220:003|       zug|      Zürich Enge|11.09.2018 06:06|2018-09-11 06:05:38|  -22|             0|         Tue|\n",
      "| 85:11:18220:003|       zug|        Zürich HB|11.09.2018 06:12|2018-09-11 06:11:14|  -46|             0|         Tue|\n",
      "| 85:11:18232:002|       zug|        Altendorf|11.09.2018 08:32|2018-09-11 08:33:07|   67|            67|         Tue|\n",
      "| 85:11:18248:002|       zug|           Horgen|11.09.2018 12:53|2018-09-11 12:53:08|    8|             8|         Tue|\n",
      "| 85:11:18248:002|       zug|      Zürich Enge|11.09.2018 13:06|2018-09-11 13:05:23|  -37|             0|         Tue|\n",
      "+----------------+----------+-----------------+----------------+-------------------+-----+--------------+------------+\n",
      "only showing top 5 rows"
     ]
    }
   ],
   "source": [
    "%%spark\n",
    "df_days_w = df_delays_filter.withColumn(\"an_prognose\",F.to_timestamp(col(\"an_prognose\"), format ='dd.MM.yyyy HH:mm:ss')).withColumn(\"week_day_abb\", date_format(col(\"an_prognose\"), \"E\"))\n",
    "df_days_w.show(5)\n",
    "\n"
   ]
  },
  {
   "cell_type": "code",
   "execution_count": 26,
   "id": "d06da216-490f-4236-aeb9-d64a064073df",
   "metadata": {},
   "outputs": [
    {
     "data": {
      "application/vnd.jupyter.widget-view+json": {
       "model_id": "",
       "version_major": 2,
       "version_minor": 0
      },
      "text/plain": [
       "FloatProgress(value=0.0, bar_style='info', description='Progress:', layout=Layout(height='25px', width='50%'),…"
      ]
     },
     "metadata": {},
     "output_type": "display_data"
    },
    {
     "name": "stdout",
     "output_type": "stream",
     "text": [
      "['Sun', 'Mon', 'Thu', 'Sat', 'Wed', 'Fri', 'Tue']"
     ]
    }
   ],
   "source": [
    "%%spark\n",
    "days =df_days_w.select('week_day_abb').distinct().rdd.flatMap(lambda x: x).collect()\n",
    "print(days)"
   ]
  },
  {
   "cell_type": "code",
   "execution_count": 27,
   "id": "f1dc72e4-5069-4ec7-9456-61064dde7c9e",
   "metadata": {},
   "outputs": [
    {
     "data": {
      "application/vnd.jupyter.widget-view+json": {
       "model_id": "",
       "version_major": 2,
       "version_minor": 0
      },
      "text/plain": [
       "FloatProgress(value=0.0, bar_style='info', description='Progress:', layout=Layout(height='25px', width='50%'),…"
      ]
     },
     "metadata": {},
     "output_type": "display_data"
    },
    {
     "name": "stdout",
     "output_type": "stream",
     "text": [
      "['bus', 'zug', 'tram']"
     ]
    }
   ],
   "source": [
    "%%spark\n",
    "ttype = df_delays_filter.select('produkt_id').distinct().rdd.flatMap(lambda x: x).collect()\n",
    "ttype = ttype[:3]\n",
    "print(ttype)"
   ]
  },
  {
   "cell_type": "code",
   "execution_count": 34,
   "id": "80f187a4-5a7e-4381-890f-083e69a07f54",
   "metadata": {},
   "outputs": [
    {
     "data": {
      "application/vnd.jupyter.widget-view+json": {
       "model_id": "",
       "version_major": 2,
       "version_minor": 0
      },
      "text/plain": [
       "FloatProgress(value=0.0, bar_style='info', description='Progress:', layout=Layout(height='25px', width='50%'),…"
      ]
     },
     "metadata": {},
     "output_type": "display_data"
    },
    {
     "name": "stdout",
     "output_type": "stream",
     "text": [
      "+----------------+----------+-----------------+----------------+-------------------+-----+--------------+------------+-----+\n",
      "|fahrt_bezeichner|produkt_id|haltestellen_name|    ankunftszeit|        an_prognose|delay|positive_delay|week_day_abb|hours|\n",
      "+----------------+----------+-----------------+----------------+-------------------+-----+--------------+------------+-----+\n",
      "| 85:11:18220:003|       zug|      Zürich Enge|11.09.2018 06:06|2018-09-11 06:05:38|  -22|             0|         Tue|    6|\n",
      "| 85:11:18220:003|       zug|        Zürich HB|11.09.2018 06:12|2018-09-11 06:11:14|  -46|             0|         Tue|    6|\n",
      "| 85:11:18232:002|       zug|        Altendorf|11.09.2018 08:32|2018-09-11 08:33:07|   67|            67|         Tue|    8|\n",
      "| 85:11:18248:002|       zug|           Horgen|11.09.2018 12:53|2018-09-11 12:53:08|    8|             8|         Tue|   12|\n",
      "| 85:11:18248:002|       zug|      Zürich Enge|11.09.2018 13:06|2018-09-11 13:05:23|  -37|             0|         Tue|   13|\n",
      "+----------------+----------+-----------------+----------------+-------------------+-----+--------------+------------+-----+\n",
      "only showing top 5 rows"
     ]
    }
   ],
   "source": [
    "%%spark\n",
    "df_days_w =df_days_w.withColumn(\"hours\", hour(col(\"an_prognose\")))\n",
    "df_days_w.show(5)"
   ]
  },
  {
   "cell_type": "code",
   "execution_count": 36,
   "id": "6757ff11-37b3-4b0b-a188-30f239c59c63",
   "metadata": {},
   "outputs": [
    {
     "data": {
      "application/vnd.jupyter.widget-view+json": {
       "model_id": "",
       "version_major": 2,
       "version_minor": 0
      },
      "text/plain": [
       "FloatProgress(value=0.0, bar_style='info', description='Progress:', layout=Layout(height='25px', width='50%'),…"
      ]
     },
     "metadata": {},
     "output_type": "display_data"
    },
    {
     "name": "stdout",
     "output_type": "stream",
     "text": [
      "['0-20', '20-40', '40-60', '60-80', '80-100', '100-120', '120-140', '140-160', '160-180', '180-200']\n",
      "                  0-20 20-40 40-60 60-80  ... 120-140 140-160 160-180 180-200\n",
      "Mon - bus 6h-9h    NaN   NaN   NaN   NaN  ...     NaN     NaN     NaN     NaN\n",
      "Mon - bus 9h-16h   NaN   NaN   NaN   NaN  ...     NaN     NaN     NaN     NaN\n",
      "Mon - bus 16-21h   NaN   NaN   NaN   NaN  ...     NaN     NaN     NaN     NaN\n",
      "Mon - tram 6h-9h   NaN   NaN   NaN   NaN  ...     NaN     NaN     NaN     NaN\n",
      "Mon - tram 9h-16h  NaN   NaN   NaN   NaN  ...     NaN     NaN     NaN     NaN\n",
      "Mon - tram 16-21h  NaN   NaN   NaN   NaN  ...     NaN     NaN     NaN     NaN\n",
      "Mon - zug 6h-9h    NaN   NaN   NaN   NaN  ...     NaN     NaN     NaN     NaN\n",
      "Mon - zug 9h-16h   NaN   NaN   NaN   NaN  ...     NaN     NaN     NaN     NaN\n",
      "Mon - zug 16-21h   NaN   NaN   NaN   NaN  ...     NaN     NaN     NaN     NaN\n",
      "Tue - bus 6h-9h    NaN   NaN   NaN   NaN  ...     NaN     NaN     NaN     NaN\n",
      "\n",
      "[10 rows x 10 columns]"
     ]
    }
   ],
   "source": [
    "%%spark\n",
    "\n",
    "batch = list(range(0,220,20))\n",
    "comb = []\n",
    "for i in range(len(batch)-1):\n",
    "    tmp = str(batch[i]) + \"-\" + str(batch[i+1])\n",
    "    comb.append(tmp)  # create a list with 2 batch together \n",
    "    \n",
    "days = ['Mon', 'Tue', 'Wed', 'Thu','Fri', 'Sat', 'Sun']\n",
    "ttype = ['bus', 'tram', 'zug']\n",
    "hours_merge = ['6h-9h', '9h-16h','16-21h']\n",
    "hours = [6,9,16,21]\n",
    "\n",
    "\n",
    "combinations = []  #will be a list with all the possible combinations between the days, type of transport and moment in the day \n",
    "for week in days:\n",
    "    for type in ttype:\n",
    "        for h in hours_merge:\n",
    "            # Create a combination by concatenating the week name and type\n",
    "            combination = week + \" - \" + type + \" \" + h\n",
    "            # Add the combination to the list\n",
    "            combinations.append(combination)  \n",
    "\n",
    "\n",
    "columns = comb\n",
    "rows = combinations\n",
    "\n",
    "df_stat_ist = pd.DataFrame(columns=columns, index=rows)   #create an empty dataframe with all the combinations as rows and the batch as columns\n",
    "df_stat_ist.head()"
   ]
  },
  {
   "cell_type": "code",
   "execution_count": 37,
   "id": "4c2df15b-b679-451a-b2ff-c23eac1968a5",
   "metadata": {},
   "outputs": [
    {
     "data": {
      "application/vnd.jupyter.widget-view+json": {
       "model_id": "",
       "version_major": 2,
       "version_minor": 0
      },
      "text/plain": [
       "FloatProgress(value=0.0, bar_style='info', description='Progress:', layout=Layout(height='25px', width='50%'),…"
      ]
     },
     "metadata": {},
     "output_type": "display_data"
    },
    {
     "name": "stdout",
     "output_type": "stream",
     "text": [
      "                    0-20  20-40  40-60  60-80  ... 120-140 140-160 160-180 180-200\n",
      "Mon - bus 6h-9h    37195  26590  33541  27121  ...   12157    8511    5902    4203\n",
      "Mon - bus 9h-16h   72649  52743  66104  54674  ...   24634   17319   11806    8184\n",
      "Mon - bus 16-21h   62620  40909  49026  39209  ...   19197   14119   10403    7927\n",
      "Mon - tram 6h-9h   15055   7783   8316   4889  ...    1623    1110     751     518\n",
      "Mon - tram 9h-16h  38954  19274  19353  10459  ...    3096    2026    1343     907\n",
      "\n",
      "[5 rows x 10 columns]"
     ]
    }
   ],
   "source": [
    "%%spark\n",
    "k = 0\n",
    "for idx,day in enumerate(days):\n",
    "    for idx2,t in enumerate(ttype):\n",
    "        w = 0\n",
    "        for h in range(len(hours)-1):\n",
    "            for i in range(len(batch)-1):\n",
    "                number = df_days_w.filter((df_days_w.positive_delay >= batch[i] ) & (df_days_w.positive_delay < batch[i+1]) & (df_days_w.week_day_abb == day) & (df_days_w.produkt_id == t ) & (df_days_w.hours >= hours[h] ) & (df_days_w.hours < hours[h+1]) ).count()\n",
    "                df_stat_ist.iloc[k+w,i] = number\n",
    "            w = w + 1\n",
    "        k = k + 3\n",
    "df_stat_ist.head()"
   ]
  },
  {
   "cell_type": "code",
   "execution_count": 40,
   "id": "e88b3ccd-acff-4b0e-ba8d-13ccf1f32fb7",
   "metadata": {},
   "outputs": [
    {
     "data": {
      "application/vnd.jupyter.widget-view+json": {
       "model_id": "",
       "version_major": 2,
       "version_minor": 0
      },
      "text/plain": [
       "FloatProgress(value=0.0, bar_style='info', description='Progress:', layout=Layout(height='25px', width='50%'),…"
      ]
     },
     "metadata": {},
     "output_type": "display_data"
    },
    {
     "data": {
      "application/vnd.jupyter.widget-view+json": {
       "model_id": "",
       "version_major": 2,
       "version_minor": 0
      },
      "text/plain": [
       "FloatProgress(value=0.0, bar_style='info', description='Progress:', layout=Layout(height='25px', width='50%'),…"
      ]
     },
     "metadata": {},
     "output_type": "display_data"
    }
   ],
   "source": [
    "%%spark -o df_istaden_stat -n -1\n",
    "df_istaden_stat = spark.createDataFrame(df_stat_ist.reset_index())  # transfer into a spark df and save it"
   ]
  },
  {
   "cell_type": "code",
   "execution_count": 42,
   "id": "af754ab4-c2ad-462b-8911-35357715d052",
   "metadata": {},
   "outputs": [],
   "source": [
    "df_istaden_stat.to_csv(\"stat_timeday.csv\")"
   ]
  },
  {
   "cell_type": "code",
   "execution_count": 51,
   "id": "50f2daab-16e5-43f1-85bd-cd26442b106b",
   "metadata": {},
   "outputs": [
    {
     "data": {
      "text/plain": [
       "<BarContainer object of 10 artists>"
      ]
     },
     "execution_count": 51,
     "metadata": {},
     "output_type": "execute_result"
    },
    {
     "data": {
      "image/png": "[encoded data removed]",
      "text/plain": [
       "<Figure size 432x288 with 1 Axes>"
      ]
     },
     "metadata": {
      "needs_background": "light"
     },
     "output_type": "display_data"
    }
   ],
   "source": [
    "#check if the statistics we computed on istdaten make sense by plotting the distribution on 1 line\n",
    "frequencies = df_istaden_stat.iloc[0].tolist()[1:]\n",
    "bin_ranges = list(range(0,220,20))\n",
    "bin_centers = [(bin_ranges[i] + bin_ranges[i+1]) / 2 for i in range(len(bin_ranges)-1)]\n",
    "plt.bar(bin_centers, frequencies, width=np.diff(bin_ranges), edgecolor='black')"
   ]
  }
 ],
 "metadata": {
  "kernelspec": {
   "display_name": "Python 3 (ipykernel)",
   "language": "python",
   "name": "python3"
  },
  "language_info": {
   "codemirror_mode": {
    "name": "ipython",
    "version": 3
   },
   "file_extension": ".py",
   "mimetype": "text/x-python",
   "name": "python",
   "nbconvert_exporter": "python",
   "pygments_lexer": "ipython3",
   "version": "3.9.12"
  }
 },
 "nbformat": 4,
 "nbformat_minor": 5
}
